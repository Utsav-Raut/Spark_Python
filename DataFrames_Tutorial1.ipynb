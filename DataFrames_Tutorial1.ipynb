{
 "cells": [
  {
   "cell_type": "markdown",
   "id": "0ae0acb0",
   "metadata": {},
   "source": [
    "# Dataframes:\n",
    "\n",
    "The concept of dataframe comes from the world of statistical tools/softwares used in emperical research. \n",
    "Dataframes are designed for processing large quantities of structured and semi-structured data. Observation in spark dataframe are organized under named columns which helps apache spark to understand the schema of a dataframe. This helps Spark optimize execution plan on these queries.\n",
    "Dataframes in Apache Spark has the ability to handle petabytes of data. It is usually used for handling the Big Data. \n",
    "It has support for wide range of data formats and sources.\n",
    "It has API support for different languages like Python, R, Java, Scala which makes it easier for people having different programming background as well.\n",
    "\n",
    "Dataframe APIs support elaborate methods for slicing and dicing the data.\n",
    "It includes operations such as selecting rows, columns and cell by name, or by number filtering out rows and many other operations.\n",
    "Another critically important feature of a dataframe is the explicit management of missing data.\n",
    "\n",
    "Dataframes refers to tabular data - a data structure representing rows, each of which consists of a number of observations or measurements which are known as columns. Alternatively each row may be treated as a single observation of multiple variables.\n",
    "Dataframes also contain some metadata in addition to the data, for example the column and the row names.\n",
    "Dataframe is like a 2D data-structure similar to a SQL or a table in a spreadsheet."
   ]
  },
  {
   "cell_type": "markdown",
   "id": "30685a7e",
   "metadata": {},
   "source": [
    "# Features of DataFrame:\n",
    "Firstly, they are \"distributed\" in nature which makes them highy available and fault tolerant.\n",
    "Secondly they support lazy evaluations, which increases manageability, speed, computation, provides optimization by reducing the number of queries, decreases complexities.\n",
    "Thirdly it is immutable, i.e an object whose state cannot be modified after it has been created. But we can transform its values by performing some transformations like in RDD."
   ]
  },
  {
   "cell_type": "markdown",
   "id": "b2f13cfc",
   "metadata": {},
   "source": [
    "# Creating DataFrames\n",
    "A dataframe in Spark can be created in mutiple ways.\n",
    "It can be created using different data formats for example loading data from json, csv, xml, parquet files. It can also be created from an existing RDD as well as from various dbs like Hive db, Cassandra db. Also we can create Dataframes from files residing in file systems as well as HDFS."
   ]
  },
  {
   "cell_type": "raw",
   "id": "f14e4ff7",
   "metadata": {},
   "source": [
    "pyspark.sql.SQLContext is the main entry point for a dataframe and sql functionality."
   ]
  },
  {
   "cell_type": "markdown",
   "id": "88fbf7c6",
   "metadata": {},
   "source": [
    "<h2>Important Classes</h2>\n",
    "<ul>\n",
    "<li>pyspark.sql.SQLContext</li>\n",
    "<li>pyspark.sql.DataFrame</li>\n",
    "<li>pyspark.sql.Column</li>\n",
    "<li>pyspark.sql.Row</li>\n",
    "<li>pyspark.sql.GroupedData</li>\n",
    "<li>pyspark.sql.DataFrameNAFunctions</li>\n",
    "<li>pyspark.sql.DataFrameStatFunctions</li>\n",
    "<li>pyspark.sql.functions</li>\n",
    "<li>pyspark.sql.types</li>\n",
    "<li>pyspark.sql.Window</li>\n",
    "</ul>"
   ]
  },
  {
   "cell_type": "code",
   "execution_count": 1,
   "id": "89cc5102",
   "metadata": {},
   "outputs": [],
   "source": [
    "import findspark\n",
    "findspark.init()\n",
    "import pyspark"
   ]
  },
  {
   "cell_type": "code",
   "execution_count": 18,
   "id": "67c3951d",
   "metadata": {},
   "outputs": [],
   "source": [
    "from pyspark.sql import *\n",
    "spark = SparkSession.builder.master(\"local[2]\").appName(\"DataFrames1\").getOrCreate()"
   ]
  },
  {
   "cell_type": "code",
   "execution_count": 3,
   "id": "2e7e26eb",
   "metadata": {},
   "outputs": [],
   "source": [
    "employee = Row(\"firstName\", \"lastName\", \"email\", \"salary\")"
   ]
  },
  {
   "cell_type": "code",
   "execution_count": 10,
   "id": "40c76573",
   "metadata": {},
   "outputs": [],
   "source": [
    "employee1 = employee(\"Bruce\", \"Wayne\", \"BruceWayne@waynecorp.org\", 152666)\n",
    "employee2 = employee(\"Clark\", \"Kent\", \"ClarKent@oscorp.org\", 79985)\n",
    "employee3 = employee(\"Diana\", \"Prince\", \"DianaPrince@themyscire.org\", 58874)\n",
    "employee4 = employee(\"Barry\", \"Allen\", \"BarryAllen@wstarlabs.org\", 233541)"
   ]
  },
  {
   "cell_type": "code",
   "execution_count": 11,
   "id": "3a07748b",
   "metadata": {},
   "outputs": [],
   "source": [
    "department1 = Row(id='123456', name='HR')\n",
    "department2 = Row(id='789012', name='OPS')\n",
    "department3 = Row(id='345678', name='FN')\n",
    "department4 = Row(id='901234', name='DEV')"
   ]
  },
  {
   "cell_type": "code",
   "execution_count": 12,
   "id": "0cea22ca",
   "metadata": {},
   "outputs": [
    {
     "name": "stdout",
     "output_type": "stream",
     "text": [
      "Row(firstName='Diana', lastName='Prince', email='DianaPrince@themyscire.org', salary=58874)\n"
     ]
    }
   ],
   "source": [
    "print(employee3)"
   ]
  },
  {
   "cell_type": "code",
   "execution_count": 13,
   "id": "f8f31fef",
   "metadata": {},
   "outputs": [
    {
     "name": "stdout",
     "output_type": "stream",
     "text": [
      "firstName\n"
     ]
    }
   ],
   "source": [
    "print(employee[0])"
   ]
  },
  {
   "cell_type": "code",
   "execution_count": 14,
   "id": "1b9773c0",
   "metadata": {},
   "outputs": [],
   "source": [
    "departmentWithEmployees1 = Row(department=department1, employees=[employee1, employee2])\n",
    "departmentWithEmployees2 = Row(department=department2, employees=[employee3, employee4])\n",
    "departmentWithEmployees3 = Row(department=department3, employees=[employee1, employee4, employee3])\n",
    "departmentWithEmployees4 = Row(department=department4, employees=[employee2, employee3])"
   ]
  },
  {
   "cell_type": "code",
   "execution_count": 16,
   "id": "07c41fac",
   "metadata": {},
   "outputs": [
    {
     "name": "stdout",
     "output_type": "stream",
     "text": [
      "Row(id='901234', name='DEV')\n"
     ]
    }
   ],
   "source": [
    "print(department4)"
   ]
  },
  {
   "cell_type": "code",
   "execution_count": 19,
   "id": "8b8d1c03",
   "metadata": {},
   "outputs": [],
   "source": [
    "departmentsWithEmployees_Seq = [departmentWithEmployees1, departmentWithEmployees2]\n",
    "dframe = spark.createDataFrame(departmentsWithEmployees_Seq)"
   ]
  },
  {
   "cell_type": "code",
   "execution_count": 21,
   "id": "8499314a",
   "metadata": {},
   "outputs": [
    {
     "data": {
      "text/plain": [
       "DataFrame[department: struct<id:string,name:string>, employees: array<struct<firstName:string,lastName:string,email:string,salary:bigint>>]"
      ]
     },
     "metadata": {},
     "output_type": "display_data"
    }
   ],
   "source": [
    "display(dframe)"
   ]
  },
  {
   "cell_type": "markdown",
   "id": "b455a3bb",
   "metadata": {},
   "source": [
    "# Creating DataFrame using an actual file"
   ]
  },
  {
   "cell_type": "code",
   "execution_count": 30,
   "id": "6317c06c",
   "metadata": {},
   "outputs": [],
   "source": [
    "# By default the \"read\" method will look for a file in HDFS, so we need to specify the filnename\n",
    "# as \"file:///\"\n",
    "\n",
    "fifa_df = spark.read.format(\"csv\").option(\"inferSchema\", True).option(\"header\", True).load(\"file:///home/boom/Documents/programming/pyspark/data_files/my_data.csv\")"
   ]
  },
  {
   "cell_type": "code",
   "execution_count": 31,
   "id": "5e5f1a1b",
   "metadata": {},
   "outputs": [
    {
     "name": "stdout",
     "output_type": "stream",
     "text": [
      "+---+---------+---------+--------------------+--------------------+--------------+\n",
      "| id|firstname| lastname|               email|              email2|    profession|\n",
      "+---+---------+---------+--------------------+--------------------+--------------+\n",
      "|100|    Lynde|   Orelee|Lynde.Orelee@yopm...|Lynde.Orelee@gmai...|   firefighter|\n",
      "|101|     Vere|  Charity|Vere.Charity@yopm...|Vere.Charity@gmai...|police officer|\n",
      "|102|    Verla| Demitria|Verla.Demitria@yo...|Verla.Demitria@gm...|        worker|\n",
      "|103|   Ebonee|     Etom|Ebonee.Etom@yopma...|Ebonee.Etom@gmail...|     developer|\n",
      "|104|   Orsola|  Fadiman|Orsola.Fadiman@yo...|Orsola.Fadiman@gm...|        doctor|\n",
      "|105|   Ofilia| Eliathas|Ofilia.Eliathas@y...|Ofilia.Eliathas@g...|police officer|\n",
      "|106| Willetta|     Ajay|Willetta.Ajay@yop...|Willetta.Ajay@gma...|     developer|\n",
      "|107|Ekaterina|       An|Ekaterina.An@yopm...|Ekaterina.An@gmai...|     developer|\n",
      "|108|  Gusella|  Emanuel|Gusella.Emanuel@y...|Gusella.Emanuel@g...|police officer|\n",
      "|109|    Robbi|  Jaylene|Robbi.Jaylene@yop...|Robbi.Jaylene@gma...|        worker|\n",
      "|110|   Melina|  Gusella|Melina.Gusella@yo...|Melina.Gusella@gm...|     developer|\n",
      "|111|   Leanna|    Garbe|Leanna.Garbe@yopm...|Leanna.Garbe@gmai...|        worker|\n",
      "|112|    Grier|  Fabiola|Grier.Fabiola@yop...|Grier.Fabiola@gma...|   firefighter|\n",
      "|113|    Linzy|       An|Linzy.An@yopmail.com|  Linzy.An@gmail.com|        worker|\n",
      "|114|     Fina| Sidonius|Fina.Sidonius@yop...|Fina.Sidonius@gma...|        doctor|\n",
      "|115|  Brianna|   Drisko|Brianna.Drisko@yo...|Brianna.Drisko@gm...|        worker|\n",
      "|116|Morganica| Kendrick|Morganica.Kendric...|Morganica.Kendric...|     developer|\n",
      "|117|  Chloris| Pulsifer|Chloris.Pulsifer@...|Chloris.Pulsifer@...|        doctor|\n",
      "|118|  Aeriela|Erlandson|Aeriela.Erlandson...|Aeriela.Erlandson...|        worker|\n",
      "|119|   Dennie|    Trace|Dennie.Trace@yopm...|Dennie.Trace@gmai...|     developer|\n",
      "+---+---------+---------+--------------------+--------------------+--------------+\n",
      "only showing top 20 rows\n",
      "\n"
     ]
    }
   ],
   "source": [
    "fifa_df.show()"
   ]
  },
  {
   "cell_type": "code",
   "execution_count": 32,
   "id": "59189bd8",
   "metadata": {},
   "outputs": [
    {
     "name": "stdout",
     "output_type": "stream",
     "text": [
      "root\n",
      " |-- id: integer (nullable = true)\n",
      " |-- firstname: string (nullable = true)\n",
      " |-- lastname: string (nullable = true)\n",
      " |-- email: string (nullable = true)\n",
      " |-- email2: string (nullable = true)\n",
      " |-- profession: string (nullable = true)\n",
      "\n"
     ]
    }
   ],
   "source": [
    "fifa_df.printSchema()"
   ]
  },
  {
   "cell_type": "code",
   "execution_count": 33,
   "id": "f2a4f732",
   "metadata": {},
   "outputs": [
    {
     "data": {
      "text/plain": [
       "['id', 'firstname', 'lastname', 'email', 'email2', 'profession']"
      ]
     },
     "execution_count": 33,
     "metadata": {},
     "output_type": "execute_result"
    }
   ],
   "source": [
    "fifa_df.columns"
   ]
  },
  {
   "cell_type": "code",
   "execution_count": 34,
   "id": "5fc29a10",
   "metadata": {},
   "outputs": [
    {
     "data": {
      "text/plain": [
       "1000"
      ]
     },
     "execution_count": 34,
     "metadata": {},
     "output_type": "execute_result"
    }
   ],
   "source": [
    "fifa_df.count()"
   ]
  },
  {
   "cell_type": "code",
   "execution_count": 35,
   "id": "0e32415d",
   "metadata": {},
   "outputs": [
    {
     "data": {
      "text/plain": [
       "6"
      ]
     },
     "execution_count": 35,
     "metadata": {},
     "output_type": "execute_result"
    }
   ],
   "source": [
    "len(fifa_df.columns)"
   ]
  },
  {
   "cell_type": "code",
   "execution_count": 37,
   "id": "ab340bbb",
   "metadata": {},
   "outputs": [
    {
     "name": "stdout",
     "output_type": "stream",
     "text": [
      "+-------+-----------------+\n",
      "|summary|               id|\n",
      "+-------+-----------------+\n",
      "|  count|             1000|\n",
      "|   mean|            599.5|\n",
      "| stddev|288.8194360957494|\n",
      "|    min|              100|\n",
      "|    max|             1099|\n",
      "+-------+-----------------+\n",
      "\n"
     ]
    }
   ],
   "source": [
    "fifa_df.describe('id').show()"
   ]
  },
  {
   "cell_type": "code",
   "execution_count": 38,
   "id": "5a5de923",
   "metadata": {},
   "outputs": [
    {
     "name": "stdout",
     "output_type": "stream",
     "text": [
      "+-------+--------+\n",
      "|summary|lastname|\n",
      "+-------+--------+\n",
      "|  count|    1000|\n",
      "|   mean|    null|\n",
      "| stddev|    null|\n",
      "|    min|   Abbot|\n",
      "|    max|  Zuzana|\n",
      "+-------+--------+\n",
      "\n"
     ]
    }
   ],
   "source": [
    "fifa_df.describe('lastname').show()"
   ]
  },
  {
   "cell_type": "code",
   "execution_count": null,
   "id": "b74949a8",
   "metadata": {},
   "outputs": [],
   "source": [
    "fifa_df.describe('id').show()"
   ]
  },
  {
   "cell_type": "code",
   "execution_count": null,
   "id": "8547d3c0",
   "metadata": {},
   "outputs": [],
   "source": []
  },
  {
   "cell_type": "code",
   "execution_count": 39,
   "id": "d12d18b3",
   "metadata": {},
   "outputs": [
    {
     "name": "stdout",
     "output_type": "stream",
     "text": [
      "+---------+---------+\n",
      "|firstname| lastname|\n",
      "+---------+---------+\n",
      "|    Lynde|   Orelee|\n",
      "|     Vere|  Charity|\n",
      "|    Verla| Demitria|\n",
      "|   Ebonee|     Etom|\n",
      "|   Orsola|  Fadiman|\n",
      "|   Ofilia| Eliathas|\n",
      "| Willetta|     Ajay|\n",
      "|Ekaterina|       An|\n",
      "|  Gusella|  Emanuel|\n",
      "|    Robbi|  Jaylene|\n",
      "|   Melina|  Gusella|\n",
      "|   Leanna|    Garbe|\n",
      "|    Grier|  Fabiola|\n",
      "|    Linzy|       An|\n",
      "|     Fina| Sidonius|\n",
      "|  Brianna|   Drisko|\n",
      "|Morganica| Kendrick|\n",
      "|  Chloris| Pulsifer|\n",
      "|  Aeriela|Erlandson|\n",
      "|   Dennie|    Trace|\n",
      "+---------+---------+\n",
      "only showing top 20 rows\n",
      "\n"
     ]
    }
   ],
   "source": [
    "fifa_df.select(\"firstname\", \"lastname\").show()"
   ]
  },
  {
   "cell_type": "code",
   "execution_count": 41,
   "id": "3c398e73",
   "metadata": {
    "scrolled": true
   },
   "outputs": [
    {
     "name": "stdout",
     "output_type": "stream",
     "text": [
      "+---+---------+--------+--------------------+--------------------+----------+\n",
      "| id|firstname|lastname|               email|              email2|profession|\n",
      "+---+---------+--------+--------------------+--------------------+----------+\n",
      "|107|Ekaterina|      An|Ekaterina.An@yopm...|Ekaterina.An@gmai...| developer|\n",
      "|113|    Linzy|      An|Linzy.An@yopmail.com|  Linzy.An@gmail.com|    worker|\n",
      "+---+---------+--------+--------------------+--------------------+----------+\n",
      "\n"
     ]
    }
   ],
   "source": [
    "fifa_df.filter(fifa_df.lastname=='An').show()"
   ]
  },
  {
   "cell_type": "code",
   "execution_count": 42,
   "id": "994adb6c",
   "metadata": {},
   "outputs": [
    {
     "data": {
      "text/plain": [
       "2"
      ]
     },
     "execution_count": 42,
     "metadata": {},
     "output_type": "execute_result"
    }
   ],
   "source": [
    "fifa_df.filter(fifa_df.lastname=='An').count()"
   ]
  },
  {
   "cell_type": "code",
   "execution_count": 44,
   "id": "be808d69",
   "metadata": {},
   "outputs": [
    {
     "name": "stdout",
     "output_type": "stream",
     "text": [
      "+---+---------+--------+--------------------+------------------+----------+\n",
      "| id|firstname|lastname|               email|            email2|profession|\n",
      "+---+---------+--------+--------------------+------------------+----------+\n",
      "|113|    Linzy|      An|Linzy.An@yopmail.com|Linzy.An@gmail.com|    worker|\n",
      "+---+---------+--------+--------------------+------------------+----------+\n",
      "\n"
     ]
    }
   ],
   "source": [
    "fifa_df.filter((fifa_df.firstname=='Linzy') & (fifa_df.lastname=='An')).show()"
   ]
  },
  {
   "cell_type": "code",
   "execution_count": 45,
   "id": "267a5a68",
   "metadata": {},
   "outputs": [
    {
     "name": "stdout",
     "output_type": "stream",
     "text": [
      "+---+---------+---------+--------------------+--------------------+--------------+\n",
      "| id|firstname| lastname|               email|              email2|    profession|\n",
      "+---+---------+---------+--------------------+--------------------+--------------+\n",
      "|100|    Lynde|   Orelee|Lynde.Orelee@yopm...|Lynde.Orelee@gmai...|   firefighter|\n",
      "|101|     Vere|  Charity|Vere.Charity@yopm...|Vere.Charity@gmai...|police officer|\n",
      "|102|    Verla| Demitria|Verla.Demitria@yo...|Verla.Demitria@gm...|        worker|\n",
      "|103|   Ebonee|     Etom|Ebonee.Etom@yopma...|Ebonee.Etom@gmail...|     developer|\n",
      "|104|   Orsola|  Fadiman|Orsola.Fadiman@yo...|Orsola.Fadiman@gm...|        doctor|\n",
      "|105|   Ofilia| Eliathas|Ofilia.Eliathas@y...|Ofilia.Eliathas@g...|police officer|\n",
      "|106| Willetta|     Ajay|Willetta.Ajay@yop...|Willetta.Ajay@gma...|     developer|\n",
      "|107|Ekaterina|       An|Ekaterina.An@yopm...|Ekaterina.An@gmai...|     developer|\n",
      "|108|  Gusella|  Emanuel|Gusella.Emanuel@y...|Gusella.Emanuel@g...|police officer|\n",
      "|109|    Robbi|  Jaylene|Robbi.Jaylene@yop...|Robbi.Jaylene@gma...|        worker|\n",
      "|110|   Melina|  Gusella|Melina.Gusella@yo...|Melina.Gusella@gm...|     developer|\n",
      "|111|   Leanna|    Garbe|Leanna.Garbe@yopm...|Leanna.Garbe@gmai...|        worker|\n",
      "|112|    Grier|  Fabiola|Grier.Fabiola@yop...|Grier.Fabiola@gma...|   firefighter|\n",
      "|113|    Linzy|       An|Linzy.An@yopmail.com|  Linzy.An@gmail.com|        worker|\n",
      "|114|     Fina| Sidonius|Fina.Sidonius@yop...|Fina.Sidonius@gma...|        doctor|\n",
      "|115|  Brianna|   Drisko|Brianna.Drisko@yo...|Brianna.Drisko@gm...|        worker|\n",
      "|116|Morganica| Kendrick|Morganica.Kendric...|Morganica.Kendric...|     developer|\n",
      "|117|  Chloris| Pulsifer|Chloris.Pulsifer@...|Chloris.Pulsifer@...|        doctor|\n",
      "|118|  Aeriela|Erlandson|Aeriela.Erlandson...|Aeriela.Erlandson...|        worker|\n",
      "|119|   Dennie|    Trace|Dennie.Trace@yopm...|Dennie.Trace@gmai...|     developer|\n",
      "+---+---------+---------+--------------------+--------------------+--------------+\n",
      "only showing top 20 rows\n",
      "\n"
     ]
    }
   ],
   "source": [
    "fifa_df.orderBy(fifa_df.id).show()"
   ]
  },
  {
   "cell_type": "code",
   "execution_count": 46,
   "id": "b5ed2c07",
   "metadata": {},
   "outputs": [],
   "source": [
    "fifa_df.registerTempTable('fifa_table')\n",
    "# OR, the new way of saying it is\n",
    "# fifa_df.createOrReplaceTempView('fifa_table')"
   ]
  },
  {
   "cell_type": "code",
   "execution_count": 47,
   "id": "1191eb53",
   "metadata": {},
   "outputs": [
    {
     "name": "stdout",
     "output_type": "stream",
     "text": [
      "+---+---------+---------+--------------------+--------------------+--------------+\n",
      "| id|firstname| lastname|               email|              email2|    profession|\n",
      "+---+---------+---------+--------------------+--------------------+--------------+\n",
      "|100|    Lynde|   Orelee|Lynde.Orelee@yopm...|Lynde.Orelee@gmai...|   firefighter|\n",
      "|101|     Vere|  Charity|Vere.Charity@yopm...|Vere.Charity@gmai...|police officer|\n",
      "|102|    Verla| Demitria|Verla.Demitria@yo...|Verla.Demitria@gm...|        worker|\n",
      "|103|   Ebonee|     Etom|Ebonee.Etom@yopma...|Ebonee.Etom@gmail...|     developer|\n",
      "|104|   Orsola|  Fadiman|Orsola.Fadiman@yo...|Orsola.Fadiman@gm...|        doctor|\n",
      "|105|   Ofilia| Eliathas|Ofilia.Eliathas@y...|Ofilia.Eliathas@g...|police officer|\n",
      "|106| Willetta|     Ajay|Willetta.Ajay@yop...|Willetta.Ajay@gma...|     developer|\n",
      "|107|Ekaterina|       An|Ekaterina.An@yopm...|Ekaterina.An@gmai...|     developer|\n",
      "|108|  Gusella|  Emanuel|Gusella.Emanuel@y...|Gusella.Emanuel@g...|police officer|\n",
      "|109|    Robbi|  Jaylene|Robbi.Jaylene@yop...|Robbi.Jaylene@gma...|        worker|\n",
      "|110|   Melina|  Gusella|Melina.Gusella@yo...|Melina.Gusella@gm...|     developer|\n",
      "|111|   Leanna|    Garbe|Leanna.Garbe@yopm...|Leanna.Garbe@gmai...|        worker|\n",
      "|112|    Grier|  Fabiola|Grier.Fabiola@yop...|Grier.Fabiola@gma...|   firefighter|\n",
      "|113|    Linzy|       An|Linzy.An@yopmail.com|  Linzy.An@gmail.com|        worker|\n",
      "|114|     Fina| Sidonius|Fina.Sidonius@yop...|Fina.Sidonius@gma...|        doctor|\n",
      "|115|  Brianna|   Drisko|Brianna.Drisko@yo...|Brianna.Drisko@gm...|        worker|\n",
      "|116|Morganica| Kendrick|Morganica.Kendric...|Morganica.Kendric...|     developer|\n",
      "|117|  Chloris| Pulsifer|Chloris.Pulsifer@...|Chloris.Pulsifer@...|        doctor|\n",
      "|118|  Aeriela|Erlandson|Aeriela.Erlandson...|Aeriela.Erlandson...|        worker|\n",
      "|119|   Dennie|    Trace|Dennie.Trace@yopm...|Dennie.Trace@gmai...|     developer|\n",
      "+---+---------+---------+--------------------+--------------------+--------------+\n",
      "only showing top 20 rows\n",
      "\n"
     ]
    }
   ],
   "source": [
    "spark.sql(\"select * from fifa_table\").show()"
   ]
  },
  {
   "cell_type": "markdown",
   "id": "292a9f43",
   "metadata": {},
   "source": [
    "# SUPERHEROES"
   ]
  },
  {
   "cell_type": "code",
   "execution_count": 48,
   "id": "b41eec38",
   "metadata": {},
   "outputs": [],
   "source": [
    "superhero_df = spark.read.csv(\"file:///home/boom/Documents/programming/pyspark/data_files/heroes_information.csv\", inferSchema=True, header=True)"
   ]
  },
  {
   "cell_type": "code",
   "execution_count": 51,
   "id": "011c78f0",
   "metadata": {},
   "outputs": [
    {
     "name": "stdout",
     "output_type": "stream",
     "text": [
      "+---+-------------+------+---------+-----------------+----------+------+-----------------+----------+---------+------+\n",
      "|_c0|         name|Gender|Eye color|             Race|Hair color|Height|        Publisher|Skin color|Alignment|Weight|\n",
      "+---+-------------+------+---------+-----------------+----------+------+-----------------+----------+---------+------+\n",
      "|  0|       A-Bomb|  Male|   yellow|            Human|   No Hair| 203.0|    Marvel Comics|         -|     good| 441.0|\n",
      "|  1|   Abe Sapien|  Male|     blue|    Icthyo Sapien|   No Hair| 191.0|Dark Horse Comics|      blue|     good|  65.0|\n",
      "|  2|     Abin Sur|  Male|     blue|          Ungaran|   No Hair| 185.0|        DC Comics|       red|     good|  90.0|\n",
      "|  3|  Abomination|  Male|    green|Human / Radiation|   No Hair| 203.0|    Marvel Comics|         -|      bad| 441.0|\n",
      "|  4|      Abraxas|  Male|     blue|    Cosmic Entity|     Black| -99.0|    Marvel Comics|         -|      bad| -99.0|\n",
      "|  5|Absorbing Man|  Male|     blue|            Human|   No Hair| 193.0|    Marvel Comics|         -|      bad| 122.0|\n",
      "|  6|  Adam Monroe|  Male|     blue|                -|     Blond| -99.0|     NBC - Heroes|         -|     good| -99.0|\n",
      "|  7| Adam Strange|  Male|     blue|            Human|     Blond| 185.0|        DC Comics|         -|     good|  88.0|\n",
      "|  8|     Agent 13|Female|     blue|                -|     Blond| 173.0|    Marvel Comics|         -|     good|  61.0|\n",
      "|  9|    Agent Bob|  Male|    brown|            Human|     Brown| 178.0|    Marvel Comics|         -|     good|  81.0|\n",
      "+---+-------------+------+---------+-----------------+----------+------+-----------------+----------+---------+------+\n",
      "only showing top 10 rows\n",
      "\n"
     ]
    }
   ],
   "source": [
    "superhero_df.show(10)"
   ]
  },
  {
   "cell_type": "code",
   "execution_count": 52,
   "id": "6cb6662b",
   "metadata": {},
   "outputs": [
    {
     "name": "stdout",
     "output_type": "stream",
     "text": [
      "root\n",
      " |-- _c0: integer (nullable = true)\n",
      " |-- name: string (nullable = true)\n",
      " |-- Gender: string (nullable = true)\n",
      " |-- Eye color: string (nullable = true)\n",
      " |-- Race: string (nullable = true)\n",
      " |-- Hair color: string (nullable = true)\n",
      " |-- Height: double (nullable = true)\n",
      " |-- Publisher: string (nullable = true)\n",
      " |-- Skin color: string (nullable = true)\n",
      " |-- Alignment: string (nullable = true)\n",
      " |-- Weight: double (nullable = true)\n",
      "\n"
     ]
    }
   ],
   "source": [
    "superhero_df.printSchema()"
   ]
  },
  {
   "cell_type": "code",
   "execution_count": 54,
   "id": "b50ab0a2",
   "metadata": {},
   "outputs": [
    {
     "data": {
      "text/plain": [
       "505"
      ]
     },
     "execution_count": 54,
     "metadata": {},
     "output_type": "execute_result"
    }
   ],
   "source": [
    "superhero_df.filter(superhero_df.Gender=='Male').count()"
   ]
  },
  {
   "cell_type": "code",
   "execution_count": 55,
   "id": "d45500dc",
   "metadata": {},
   "outputs": [
    {
     "data": {
      "text/plain": [
       "200"
      ]
     },
     "execution_count": 55,
     "metadata": {},
     "output_type": "execute_result"
    }
   ],
   "source": [
    "superhero_df.filter(superhero_df.Gender=='Female').count()"
   ]
  },
  {
   "cell_type": "code",
   "execution_count": 56,
   "id": "e057c08c",
   "metadata": {},
   "outputs": [
    {
     "name": "stdout",
     "output_type": "stream",
     "text": [
      "+------------------+-----+\n",
      "|              Race|count|\n",
      "+------------------+-----+\n",
      "|          Neyaphem|    1|\n",
      "|          Symbiote|    9|\n",
      "|        Kryptonian|    7|\n",
      "|           Ungaran|    1|\n",
      "|           Martian|    1|\n",
      "|         Strontian|    1|\n",
      "| Human / Radiation|   11|\n",
      "|   Kakarantharaian|    1|\n",
      "|         Metahuman|    2|\n",
      "|Dathomirian Zabrak|    1|\n",
      "|    Human / Cosmic|    2|\n",
      "|   Xenomorph XX121|    1|\n",
      "|            Animal|    4|\n",
      "|       Frost Giant|    2|\n",
      "|            Cyborg|   11|\n",
      "|           Inhuman|    4|\n",
      "|     God / Eternal|   14|\n",
      "|    Yoda's species|    1|\n",
      "|     Icthyo Sapien|    1|\n",
      "|            Rodian|    1|\n",
      "+------------------+-----+\n",
      "only showing top 20 rows\n",
      "\n"
     ]
    }
   ],
   "source": [
    "race_df = superhero_df.groupBy(\"Race\") \\\n",
    "        .count() \\\n",
    "        .show()"
   ]
  },
  {
   "cell_type": "code",
   "execution_count": 58,
   "id": "0dfbb918",
   "metadata": {},
   "outputs": [
    {
     "name": "stdout",
     "output_type": "stream",
     "text": [
      "+--------------+-----+\n",
      "|    Skin color|count|\n",
      "+--------------+-----+\n",
      "|        orange|    1|\n",
      "|    blue-white|    1|\n",
      "|          grey|    5|\n",
      "|         green|   21|\n",
      "|        yellow|    2|\n",
      "|orange / white|    1|\n",
      "|        silver|    5|\n",
      "|        purple|    3|\n",
      "|         white|    7|\n",
      "|          gray|    1|\n",
      "|   red / black|    1|\n",
      "|          pink|    2|\n",
      "|           red|    9|\n",
      "|          gold|    3|\n",
      "|             -|  662|\n",
      "|         black|    1|\n",
      "|          blue|    9|\n",
      "+--------------+-----+\n",
      "\n"
     ]
    }
   ],
   "source": [
    "skin_df = superhero_df.groupBy(\"Skin color\") \\\n",
    "        .count() \\\n",
    "        .show()"
   ]
  },
  {
   "cell_type": "code",
   "execution_count": 60,
   "id": "371e9115",
   "metadata": {},
   "outputs": [
    {
     "name": "stdout",
     "output_type": "stream",
     "text": [
      "+---+--------------+------+---------+-----------------+----------+------+-------------+----------+---------+------+\n",
      "|_c0|          name|Gender|Eye color|             Race|Hair color|Height|    Publisher|Skin color|Alignment|Weight|\n",
      "+---+--------------+------+---------+-----------------+----------+------+-------------+----------+---------+------+\n",
      "|575|     Sasquatch|  Male|      red|                -|    Orange| 305.0|Marvel Comics|         -|     good| 900.0|\n",
      "|373|    Juggernaut|  Male|     blue|            Human|       Red| 287.0|Marvel Comics|         -|  neutral| 855.0|\n",
      "|203|      Darkseid|  Male|      red|          New God|   No Hair| 267.0|    DC Comics|      grey|      bad| 817.0|\n",
      "|549|      Red Hulk|  Male|   yellow|Human / Radiation|     Black| 213.0|Marvel Comics|       red|  neutral| 630.0|\n",
      "|283|       Giganta|Female|    green|                -|       Red|  62.5|    DC Comics|         -|      bad| 630.0|\n",
      "|331|          Hulk|  Male|    green|Human / Radiation|     Green| 244.0|Marvel Comics|     green|     good| 630.0|\n",
      "|119|      Bloodaxe|Female|     blue|            Human|     Brown| 218.0|Marvel Comics|         -|      bad| 495.0|\n",
      "|718|     Wolfsbane|Female|    green|                -|    Auburn| 366.0|Marvel Comics|         -|     good| 473.0|\n",
      "|657|        Thanos|  Male|      red|          Eternal|   No Hair| 201.0|Marvel Comics|    purple|      bad| 443.0|\n",
      "|  0|        A-Bomb|  Male|   yellow|            Human|   No Hair| 203.0|Marvel Comics|         -|     good| 441.0|\n",
      "|  3|   Abomination|  Male|    green|Human / Radiation|   No Hair| 203.0|Marvel Comics|         -|      bad| 441.0|\n",
      "|611|Solomon Grundy|  Male|    black|           Zombie|     White| 279.0|    DC Comics|         -|      bad| 437.0|\n",
      "|229|      Doomsday|  Male|      red|            Alien|     White| 244.0|    DC Comics|         -|      bad| 412.0|\n",
      "|614|         Spawn|  Male|    brown|            Demon|     Black| 211.0| Image Comics|         -|     good| 405.0|\n",
      "|504|     Onslaught|  Male|      red|           Mutant|   No Hair| 305.0|Marvel Comics|         -|      bad| 405.0|\n",
      "|217|     Destroyer|  Male|        -|                -|         -| 188.0|Marvel Comics|         -|      bad| 383.0|\n",
      "|422|   Machine Man|     -|      red|                -|     Black| 183.0|Marvel Comics|         -|     good| 383.0|\n",
      "|409|  Living Brain|     -|   yellow|                -|         -| 198.0|Marvel Comics|         -|      bad| 360.0|\n",
      "| 33|    Anti-Venom|  Male|     blue|         Symbiote|     Blond| 229.0|Marvel Comics|         -|        -| 358.0|\n",
      "|386|   Killer Croc|  Male|      red|        Metahuman|   No Hair| 244.0|    DC Comics|     green|      bad| 356.0|\n",
      "+---+--------------+------+---------+-----------------+----------+------+-------------+----------+---------+------+\n",
      "only showing top 20 rows\n",
      "\n"
     ]
    }
   ],
   "source": [
    "weight_df = superhero_df.sort((superhero_df.Weight).desc())\n",
    "weight_df.show()"
   ]
  },
  {
   "cell_type": "code",
   "execution_count": 61,
   "id": "939cfdb0",
   "metadata": {},
   "outputs": [
    {
     "data": {
      "text/plain": [
       "215"
      ]
     },
     "execution_count": 61,
     "metadata": {},
     "output_type": "execute_result"
    }
   ],
   "source": [
    "DC_hero = superhero_df.filter(superhero_df.Publisher=='DC Comics')\n",
    "DC_hero.count()"
   ]
  },
  {
   "cell_type": "code",
   "execution_count": 62,
   "id": "95006270",
   "metadata": {},
   "outputs": [
    {
     "name": "stdout",
     "output_type": "stream",
     "text": [
      "+-----------------+-----+\n",
      "|        Publisher|count|\n",
      "+-----------------+-----+\n",
      "|        Rebellion|    1|\n",
      "|    HarperCollins|    6|\n",
      "| J. R. R. Tolkien|    1|\n",
      "|        Star Trek|    6|\n",
      "|    Marvel Comics|  388|\n",
      "|        Wildstorm|    3|\n",
      "|             null|   15|\n",
      "|       South Park|    1|\n",
      "|    Sony Pictures|    2|\n",
      "|      Titan Books|    1|\n",
      "|      ABC Studios|    4|\n",
      "|             SyFy|    5|\n",
      "|     Image Comics|   14|\n",
      "|Universal Studios|    1|\n",
      "|   IDW Publishing|    4|\n",
      "|     NBC - Heroes|   19|\n",
      "|    Hanna-Barbera|    1|\n",
      "|        DC Comics|  215|\n",
      "|        Microsoft|    1|\n",
      "|    J. K. Rowling|    1|\n",
      "+-----------------+-----+\n",
      "only showing top 20 rows\n",
      "\n"
     ]
    }
   ],
   "source": [
    "superhero_df.groupBy('Publisher').count().show()"
   ]
  },
  {
   "cell_type": "code",
   "execution_count": 63,
   "id": "f8aab3fd",
   "metadata": {},
   "outputs": [],
   "source": [
    "superhero_df.createOrReplaceTempView('superhero_table')"
   ]
  },
  {
   "cell_type": "code",
   "execution_count": 64,
   "id": "d9fba276",
   "metadata": {},
   "outputs": [
    {
     "name": "stdout",
     "output_type": "stream",
     "text": [
      "+---+-----------------+------+---------+-----------------+----------+------+-----------------+----------+---------+------+\n",
      "|_c0|             name|Gender|Eye color|             Race|Hair color|Height|        Publisher|Skin color|Alignment|Weight|\n",
      "+---+-----------------+------+---------+-----------------+----------+------+-----------------+----------+---------+------+\n",
      "|  0|           A-Bomb|  Male|   yellow|            Human|   No Hair| 203.0|    Marvel Comics|         -|     good| 441.0|\n",
      "|  1|       Abe Sapien|  Male|     blue|    Icthyo Sapien|   No Hair| 191.0|Dark Horse Comics|      blue|     good|  65.0|\n",
      "|  2|         Abin Sur|  Male|     blue|          Ungaran|   No Hair| 185.0|        DC Comics|       red|     good|  90.0|\n",
      "|  3|      Abomination|  Male|    green|Human / Radiation|   No Hair| 203.0|    Marvel Comics|         -|      bad| 441.0|\n",
      "|  4|          Abraxas|  Male|     blue|    Cosmic Entity|     Black| -99.0|    Marvel Comics|         -|      bad| -99.0|\n",
      "|  5|    Absorbing Man|  Male|     blue|            Human|   No Hair| 193.0|    Marvel Comics|         -|      bad| 122.0|\n",
      "|  6|      Adam Monroe|  Male|     blue|                -|     Blond| -99.0|     NBC - Heroes|         -|     good| -99.0|\n",
      "|  7|     Adam Strange|  Male|     blue|            Human|     Blond| 185.0|        DC Comics|         -|     good|  88.0|\n",
      "|  8|         Agent 13|Female|     blue|                -|     Blond| 173.0|    Marvel Comics|         -|     good|  61.0|\n",
      "|  9|        Agent Bob|  Male|    brown|            Human|     Brown| 178.0|    Marvel Comics|         -|     good|  81.0|\n",
      "| 10|       Agent Zero|  Male|        -|                -|         -| 191.0|    Marvel Comics|         -|     good| 104.0|\n",
      "| 11|       Air-Walker|  Male|     blue|                -|     White| 188.0|    Marvel Comics|         -|      bad| 108.0|\n",
      "| 12|             Ajax|  Male|    brown|           Cyborg|     Black| 193.0|    Marvel Comics|         -|      bad|  90.0|\n",
      "| 13|       Alan Scott|  Male|     blue|                -|     Blond| 180.0|        DC Comics|         -|     good|  90.0|\n",
      "| 14|      Alex Mercer|  Male|        -|            Human|         -| -99.0|        Wildstorm|         -|      bad| -99.0|\n",
      "| 15|     Alex Woolsly|  Male|        -|                -|         -| -99.0|     NBC - Heroes|         -|     good| -99.0|\n",
      "| 16|Alfred Pennyworth|  Male|     blue|            Human|     Black| 178.0|        DC Comics|         -|     good|  72.0|\n",
      "| 17|            Alien|  Male|        -|  Xenomorph XX121|   No Hair| 244.0|Dark Horse Comics|     black|      bad| 169.0|\n",
      "| 18| Allan Quatermain|  Male|        -|                -|         -| -99.0|        Wildstorm|         -|     good| -99.0|\n",
      "| 19|            Amazo|  Male|      red|          Android|         -| 257.0|        DC Comics|         -|      bad| 173.0|\n",
      "+---+-----------------+------+---------+-----------------+----------+------+-----------------+----------+---------+------+\n",
      "only showing top 20 rows\n",
      "\n"
     ]
    }
   ],
   "source": [
    "spark.sql(\"select * from superhero_table\").show()"
   ]
  },
  {
   "cell_type": "code",
   "execution_count": 66,
   "id": "774975ee",
   "metadata": {},
   "outputs": [
    {
     "ename": "ParseException",
     "evalue": "\nmismatched input ')' expecting ','(line 1, pos 25)\n\n== SQL ==\nselect distinct(Eye color) from superhero_table\n-------------------------^^^\n",
     "output_type": "error",
     "traceback": [
      "\u001b[0;31m---------------------------------------------------------------------------\u001b[0m",
      "\u001b[0;31mParseException\u001b[0m                            Traceback (most recent call last)",
      "\u001b[0;32m<ipython-input-66-f55f5dbbfd23>\u001b[0m in \u001b[0;36m<module>\u001b[0;34m\u001b[0m\n\u001b[0;32m----> 1\u001b[0;31m \u001b[0mspark\u001b[0m\u001b[0;34m.\u001b[0m\u001b[0msql\u001b[0m\u001b[0;34m(\u001b[0m\u001b[0;34m\"select distinct(Eye color) from superhero_table\"\u001b[0m\u001b[0;34m)\u001b[0m\u001b[0;34m.\u001b[0m\u001b[0mshow\u001b[0m\u001b[0;34m(\u001b[0m\u001b[0;34m)\u001b[0m\u001b[0;34m\u001b[0m\u001b[0;34m\u001b[0m\u001b[0m\n\u001b[0m",
      "\u001b[0;32m~/Documents/programming/big_data/spark-3.0.0-bin-hadoop3.2/python/pyspark/sql/session.py\u001b[0m in \u001b[0;36msql\u001b[0;34m(self, sqlQuery)\u001b[0m\n\u001b[1;32m    644\u001b[0m         \u001b[0;34m[\u001b[0m\u001b[0mRow\u001b[0m\u001b[0;34m(\u001b[0m\u001b[0mf1\u001b[0m\u001b[0;34m=\u001b[0m\u001b[0;36m1\u001b[0m\u001b[0;34m,\u001b[0m \u001b[0mf2\u001b[0m\u001b[0;34m=\u001b[0m\u001b[0;34mu'row1'\u001b[0m\u001b[0;34m)\u001b[0m\u001b[0;34m,\u001b[0m \u001b[0mRow\u001b[0m\u001b[0;34m(\u001b[0m\u001b[0mf1\u001b[0m\u001b[0;34m=\u001b[0m\u001b[0;36m2\u001b[0m\u001b[0;34m,\u001b[0m \u001b[0mf2\u001b[0m\u001b[0;34m=\u001b[0m\u001b[0;34mu'row2'\u001b[0m\u001b[0;34m)\u001b[0m\u001b[0;34m,\u001b[0m \u001b[0mRow\u001b[0m\u001b[0;34m(\u001b[0m\u001b[0mf1\u001b[0m\u001b[0;34m=\u001b[0m\u001b[0;36m3\u001b[0m\u001b[0;34m,\u001b[0m \u001b[0mf2\u001b[0m\u001b[0;34m=\u001b[0m\u001b[0;34mu'row3'\u001b[0m\u001b[0;34m)\u001b[0m\u001b[0;34m]\u001b[0m\u001b[0;34m\u001b[0m\u001b[0;34m\u001b[0m\u001b[0m\n\u001b[1;32m    645\u001b[0m         \"\"\"\n\u001b[0;32m--> 646\u001b[0;31m         \u001b[0;32mreturn\u001b[0m \u001b[0mDataFrame\u001b[0m\u001b[0;34m(\u001b[0m\u001b[0mself\u001b[0m\u001b[0;34m.\u001b[0m\u001b[0m_jsparkSession\u001b[0m\u001b[0;34m.\u001b[0m\u001b[0msql\u001b[0m\u001b[0;34m(\u001b[0m\u001b[0msqlQuery\u001b[0m\u001b[0;34m)\u001b[0m\u001b[0;34m,\u001b[0m \u001b[0mself\u001b[0m\u001b[0;34m.\u001b[0m\u001b[0m_wrapped\u001b[0m\u001b[0;34m)\u001b[0m\u001b[0;34m\u001b[0m\u001b[0;34m\u001b[0m\u001b[0m\n\u001b[0m\u001b[1;32m    647\u001b[0m \u001b[0;34m\u001b[0m\u001b[0m\n\u001b[1;32m    648\u001b[0m     \u001b[0;34m@\u001b[0m\u001b[0msince\u001b[0m\u001b[0;34m(\u001b[0m\u001b[0;36m2.0\u001b[0m\u001b[0;34m)\u001b[0m\u001b[0;34m\u001b[0m\u001b[0;34m\u001b[0m\u001b[0m\n",
      "\u001b[0;32m~/Documents/programming/big_data/spark-3.0.0-bin-hadoop3.2/python/lib/py4j-0.10.9-src.zip/py4j/java_gateway.py\u001b[0m in \u001b[0;36m__call__\u001b[0;34m(self, *args)\u001b[0m\n\u001b[1;32m   1302\u001b[0m \u001b[0;34m\u001b[0m\u001b[0m\n\u001b[1;32m   1303\u001b[0m         \u001b[0manswer\u001b[0m \u001b[0;34m=\u001b[0m \u001b[0mself\u001b[0m\u001b[0;34m.\u001b[0m\u001b[0mgateway_client\u001b[0m\u001b[0;34m.\u001b[0m\u001b[0msend_command\u001b[0m\u001b[0;34m(\u001b[0m\u001b[0mcommand\u001b[0m\u001b[0;34m)\u001b[0m\u001b[0;34m\u001b[0m\u001b[0;34m\u001b[0m\u001b[0m\n\u001b[0;32m-> 1304\u001b[0;31m         return_value = get_return_value(\n\u001b[0m\u001b[1;32m   1305\u001b[0m             answer, self.gateway_client, self.target_id, self.name)\n\u001b[1;32m   1306\u001b[0m \u001b[0;34m\u001b[0m\u001b[0m\n",
      "\u001b[0;32m~/Documents/programming/big_data/spark-3.0.0-bin-hadoop3.2/python/pyspark/sql/utils.py\u001b[0m in \u001b[0;36mdeco\u001b[0;34m(*a, **kw)\u001b[0m\n\u001b[1;32m    135\u001b[0m                 \u001b[0;31m# Hide where the exception came from that shows a non-Pythonic\u001b[0m\u001b[0;34m\u001b[0m\u001b[0;34m\u001b[0m\u001b[0;34m\u001b[0m\u001b[0m\n\u001b[1;32m    136\u001b[0m                 \u001b[0;31m# JVM exception message.\u001b[0m\u001b[0;34m\u001b[0m\u001b[0;34m\u001b[0m\u001b[0;34m\u001b[0m\u001b[0m\n\u001b[0;32m--> 137\u001b[0;31m                 \u001b[0mraise_from\u001b[0m\u001b[0;34m(\u001b[0m\u001b[0mconverted\u001b[0m\u001b[0;34m)\u001b[0m\u001b[0;34m\u001b[0m\u001b[0;34m\u001b[0m\u001b[0m\n\u001b[0m\u001b[1;32m    138\u001b[0m             \u001b[0;32melse\u001b[0m\u001b[0;34m:\u001b[0m\u001b[0;34m\u001b[0m\u001b[0;34m\u001b[0m\u001b[0m\n\u001b[1;32m    139\u001b[0m                 \u001b[0;32mraise\u001b[0m\u001b[0;34m\u001b[0m\u001b[0;34m\u001b[0m\u001b[0m\n",
      "\u001b[0;32m~/Documents/programming/big_data/spark-3.0.0-bin-hadoop3.2/python/pyspark/sql/utils.py\u001b[0m in \u001b[0;36mraise_from\u001b[0;34m(e)\u001b[0m\n",
      "\u001b[0;31mParseException\u001b[0m: \nmismatched input ')' expecting ','(line 1, pos 25)\n\n== SQL ==\nselect distinct(Eye color) from superhero_table\n-------------------------^^^\n"
     ]
    }
   ],
   "source": [
    "spark.sql(\"select distinct(Eye color) from superhero_table\").show()"
   ]
  },
  {
   "cell_type": "code",
   "execution_count": 67,
   "id": "b8e97a1c",
   "metadata": {},
   "outputs": [
    {
     "name": "stdout",
     "output_type": "stream",
     "text": [
      "+-----------+\n",
      "|max(Weight)|\n",
      "+-----------+\n",
      "|      900.0|\n",
      "+-----------+\n",
      "\n"
     ]
    }
   ],
   "source": [
    "spark.sql(\"select max(Weight) from superhero_table\").show()"
   ]
  },
  {
   "cell_type": "code",
   "execution_count": null,
   "id": "ae1fc8c8",
   "metadata": {},
   "outputs": [],
   "source": []
  }
 ],
 "metadata": {
  "kernelspec": {
   "display_name": "Python 3",
   "language": "python",
   "name": "python3"
  },
  "language_info": {
   "codemirror_mode": {
    "name": "ipython",
    "version": 3
   },
   "file_extension": ".py",
   "mimetype": "text/x-python",
   "name": "python",
   "nbconvert_exporter": "python",
   "pygments_lexer": "ipython3",
   "version": "3.8.5"
  }
 },
 "nbformat": 4,
 "nbformat_minor": 5
}

{
 "cells": [
  {
   "cell_type": "code",
   "execution_count": 1,
   "id": "62460ef4",
   "metadata": {},
   "outputs": [],
   "source": [
    "import pyspark"
   ]
  },
  {
   "cell_type": "code",
   "execution_count": 4,
   "id": "766ef7c1",
   "metadata": {},
   "outputs": [],
   "source": [
    "from pyspark.sql import SparkSession\n",
    "spark = SparkSession.builder \\\n",
    "                    .master(\"local[5]\") \\\n",
    "                    .appName(\"RDD Partition and Coalesce Demo\") \\\n",
    "                    .getOrCreate()"
   ]
  },
  {
   "cell_type": "code",
   "execution_count": 5,
   "id": "99db08da",
   "metadata": {},
   "outputs": [
    {
     "name": "stdout",
     "output_type": "stream",
     "text": [
      "MapPartitionsRDD[5] at javaToPython at NativeMethodAccessorImpl.java:0\n",
      "8\n"
     ]
    }
   ],
   "source": [
    "df = spark.range(0, 20)\n",
    "print(df.rdd)\n",
    "print(df.rdd.getNumPartitions())"
   ]
  },
  {
   "cell_type": "code",
   "execution_count": 6,
   "id": "c3ec33fc",
   "metadata": {},
   "outputs": [],
   "source": [
    "spark.conf.set(\"spark.sql.shuffle.partitions\", \"500\")"
   ]
  },
  {
   "cell_type": "code",
   "execution_count": 8,
   "id": "1bb77840",
   "metadata": {},
   "outputs": [
    {
     "name": "stdout",
     "output_type": "stream",
     "text": [
      "From local[5] : 8\n"
     ]
    }
   ],
   "source": [
    "rdd = spark.sparkContext.parallelize((0,20))\n",
    "print(\"From local[5] : \"+str(rdd.getNumPartitions()))"
   ]
  },
  {
   "cell_type": "code",
   "execution_count": 22,
   "id": "fa84af50",
   "metadata": {},
   "outputs": [
    {
     "name": "stdout",
     "output_type": "stream",
     "text": [
      "parallelize : 6\n"
     ]
    }
   ],
   "source": [
    "# rdd1 = spark.sparkContext.parallelize((0,25), 6)\n",
    "rdd1 = spark.sparkContext.parallelize(range(0,25), 6)\n",
    "print(\"parallelize : \"+str(rdd1.getNumPartitions()))"
   ]
  },
  {
   "cell_type": "code",
   "execution_count": 23,
   "id": "2a8d8f2d",
   "metadata": {},
   "outputs": [],
   "source": [
    "\"\"\"rddFromFile = spark.sparkContext.textFile(\"src/main/resources/test.txt\",10)\n",
    "print(\"TextFile : \"+str(rddFromFile.getNumPartitions())) \"\"\"\n",
    "\n",
    "rdd1.saveAsTextFile(\"file:///home/boom/Documents/programming/pyspark/data_files/part_files2\")"
   ]
  },
  {
   "cell_type": "code",
   "execution_count": 24,
   "id": "7da5b6d1",
   "metadata": {},
   "outputs": [
    {
     "name": "stdout",
     "output_type": "stream",
     "text": [
      "Repartition size : 4\n"
     ]
    }
   ],
   "source": [
    "rdd2 = rdd1.repartition(4)\n",
    "print(\"Repartition size : \"+str(rdd2.getNumPartitions()))"
   ]
  },
  {
   "cell_type": "code",
   "execution_count": 25,
   "id": "1db4b02a",
   "metadata": {},
   "outputs": [],
   "source": [
    "rdd2.saveAsTextFile(\"file:///home/boom/Documents/programming/pyspark/data_files/part_files2/re-partition2\")"
   ]
  },
  {
   "cell_type": "code",
   "execution_count": 26,
   "id": "fbaac54b",
   "metadata": {},
   "outputs": [
    {
     "name": "stdout",
     "output_type": "stream",
     "text": [
      "Repartition size : 4\n"
     ]
    }
   ],
   "source": [
    "rdd3 = rdd1.coalesce(4)\n",
    "print(\"Repartition size : \"+str(rdd3.getNumPartitions()))"
   ]
  },
  {
   "cell_type": "code",
   "execution_count": 27,
   "id": "827d4b9c",
   "metadata": {},
   "outputs": [],
   "source": [
    "rdd3.saveAsTextFile(\"file:///home/boom/Documents/programming/pyspark/data_files/part_files2/coalesce2\")"
   ]
  },
  {
   "cell_type": "code",
   "execution_count": 21,
   "id": "cf411e02",
   "metadata": {},
   "outputs": [
    {
     "data": {
      "text/plain": [
       "[0, 1, 2, 3, 4, 5, 6, 7, 8, 9]"
      ]
     },
     "execution_count": 21,
     "metadata": {},
     "output_type": "execute_result"
    }
   ],
   "source": [
    "# rdd1 = spark.sparkContext.parallelize(range(0,25), 6)\n",
    "# rdd1.take(10)"
   ]
  },
  {
   "cell_type": "code",
   "execution_count": null,
   "id": "75da07ff",
   "metadata": {},
   "outputs": [],
   "source": []
  }
 ],
 "metadata": {
  "kernelspec": {
   "display_name": "Python 3",
   "language": "python",
   "name": "python3"
  },
  "language_info": {
   "codemirror_mode": {
    "name": "ipython",
    "version": 3
   },
   "file_extension": ".py",
   "mimetype": "text/x-python",
   "name": "python",
   "nbconvert_exporter": "python",
   "pygments_lexer": "ipython3",
   "version": "3.8.5"
  }
 },
 "nbformat": 4,
 "nbformat_minor": 5
}

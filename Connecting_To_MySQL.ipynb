{
 "cells": [
  {
   "cell_type": "code",
   "execution_count": 1,
   "id": "0df2e462",
   "metadata": {},
   "outputs": [],
   "source": [
    "import findspark\n",
    "findspark.init()\n",
    "import pyspark"
   ]
  },
  {
   "cell_type": "code",
   "execution_count": 2,
   "id": "967f2037",
   "metadata": {},
   "outputs": [],
   "source": [
    "from pyspark.sql import *\n",
    "spark = SparkSession.builder.master(\"local[2]\").appName(\"connect_to_mysql\").getOrCreate()"
   ]
  },
  {
   "cell_type": "code",
   "execution_count": 3,
   "id": "27158b3f",
   "metadata": {},
   "outputs": [],
   "source": [
    "df = spark.read.format(\"jdbc\"). \\\n",
    "        option(\"url\",\"jdbc:mysql://localhost/ORG\"). \\\n",
    "        option(\"driver\",\"com.mysql.jdbc.Driver\"). \\\n",
    "        option(\"dbtable\",\"Worker\"). \\\n",
    "        option(\"user\",\"root\"). \\\n",
    "        option(\"password\",\"MySqlPassword2020!\"). \\\n",
    "        load()"
   ]
  },
  {
   "cell_type": "code",
   "execution_count": 4,
   "id": "85fd9bf9",
   "metadata": {},
   "outputs": [
    {
     "name": "stdout",
     "output_type": "stream",
     "text": [
      "+---------+----------+---------+------+-------------------+----------+\n",
      "|WORKER_ID|FIRST_NAME|LAST_NAME|SALARY|       JOINING_DATE|DEPARTMENT|\n",
      "+---------+----------+---------+------+-------------------+----------+\n",
      "|        1|    Monika|    Arora| 10000|2014-02-20 09:00:00|        HR|\n",
      "|        2|  Niharika|    Verma| 80000|2014-06-11 09:00:00|     Admin|\n",
      "|        3|    Vishal|  Singhal|300000|2014-02-20 09:00:00|        HR|\n",
      "|        4|   Amitabh|    Singh|500000|2014-02-20 09:00:00|     Admin|\n",
      "|        5|     Vivek|    Bhati|500000|2014-06-11 09:00:00|     Admin|\n",
      "|        6|     Vipul|    Diwan|200000|2014-06-11 09:00:00|   Account|\n",
      "|        7|    Satish|    Kumar| 75000|2014-01-20 09:00:00|   Account|\n",
      "|        8|   Geetika|  Chauhan| 90000|2014-04-11 09:00:00|     Admin|\n",
      "+---------+----------+---------+------+-------------------+----------+\n",
      "\n"
     ]
    }
   ],
   "source": [
    "df.show()"
   ]
  },
  {
   "cell_type": "code",
   "execution_count": null,
   "id": "9e653abf",
   "metadata": {},
   "outputs": [],
   "source": [
    "# put the following jars in the spark jars folder --\n",
    "# mysql-connector-java-8.0.26.jar\n",
    "# protobuf-java-2.5.0.jar\n",
    "\n",
    "# Also a pip"
   ]
  }
 ],
 "metadata": {
  "kernelspec": {
   "display_name": "Python 3",
   "language": "python",
   "name": "python3"
  },
  "language_info": {
   "codemirror_mode": {
    "name": "ipython",
    "version": 3
   },
   "file_extension": ".py",
   "mimetype": "text/x-python",
   "name": "python",
   "nbconvert_exporter": "python",
   "pygments_lexer": "ipython3",
   "version": "3.8.5"
  }
 },
 "nbformat": 4,
 "nbformat_minor": 5
}

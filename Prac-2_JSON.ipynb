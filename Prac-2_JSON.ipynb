{
 "cells": [
  {
   "cell_type": "code",
   "execution_count": 1,
   "id": "97ba26c3",
   "metadata": {},
   "outputs": [],
   "source": [
    "# https://towardsdatascience.com/pyspark-and-sparksql-basics-6cb4bf967e53"
   ]
  },
  {
   "cell_type": "code",
   "execution_count": 2,
   "id": "11078030",
   "metadata": {},
   "outputs": [],
   "source": [
    "import findspark\n",
    "findspark.init()"
   ]
  },
  {
   "cell_type": "code",
   "execution_count": 3,
   "id": "d3e83cfa",
   "metadata": {},
   "outputs": [],
   "source": [
    "from pyspark.sql import SparkSession\n",
    "spark = SparkSession.builder.master('local[*]').appName('Prac-2').getOrCreate()"
   ]
  },
  {
   "cell_type": "code",
   "execution_count": 4,
   "id": "c9a3763e",
   "metadata": {},
   "outputs": [],
   "source": [
    "json_file_path = 'file:///home/boom/Documents/programming/pyspark/data_files/nyt2.json'"
   ]
  },
  {
   "cell_type": "code",
   "execution_count": 5,
   "id": "9c37a0f5",
   "metadata": {},
   "outputs": [],
   "source": [
    "df = spark.read.format('json').load(json_file_path)"
   ]
  },
  {
   "cell_type": "code",
   "execution_count": 6,
   "id": "204e3764",
   "metadata": {},
   "outputs": [
    {
     "name": "stdout",
     "output_type": "stream",
     "text": [
      "+--------------------------+-----------------------------------------------------------------------------------------+-----------------+-----------------+----------------------------------------------------------------------------------------------------------------------------+--------+-----------------+-------------+----+--------------+------------------------+-------------+\n",
      "|_id                       |amazon_product_url                                                                       |author           |bestsellers_date |description                                                                                                                 |price   |published_date   |publisher    |rank|rank_last_week|title                   |weeks_on_list|\n",
      "+--------------------------+-----------------------------------------------------------------------------------------+-----------------+-----------------+----------------------------------------------------------------------------------------------------------------------------+--------+-----------------+-------------+----+--------------+------------------------+-------------+\n",
      "|[5b4aa4ead3089013507db18b]|http://www.amazon.com/Odd-Hours-Dean-Koontz/dp/0553807056?tag=NYTBS-20                   |Dean R Koontz    |[[1211587200000]]|Odd Thomas, who can communicate with the dead, confronts evil forces in a California coastal town.                          |[, 27]  |[[1212883200000]]|Bantam       |[1] |[0]           |ODD HOURS               |[1]          |\n",
      "|[5b4aa4ead3089013507db18c]|http://www.amazon.com/The-Host-Novel-Stephenie-Meyer/dp/0316218502?tag=NYTBS-20          |Stephenie Meyer  |[[1211587200000]]|Aliens have taken control of the minds and bodies of most humans, but one woman won’t surrender.                            |[25.99,]|[[1212883200000]]|Little, Brown|[2] |[1]           |THE HOST                |[3]          |\n",
      "|[5b4aa4ead3089013507db18d]|http://www.amazon.com/Love-Youre-With-Emily-Giffin/dp/0312348665?tag=NYTBS-20            |Emily Giffin     |[[1211587200000]]|A woman's happy marriage is shaken when she encounters an old boyfriend.                                                    |[24.95,]|[[1212883200000]]|St. Martin's |[3] |[2]           |LOVE THE ONE YOU'RE WITH|[2]          |\n",
      "|[5b4aa4ead3089013507db18e]|http://www.amazon.com/The-Front-Garano-Patricia-Cornwell-ebook/dp/B0017T0C9M?tag=NYTBS-20|Patricia Cornwell|[[1211587200000]]|A Massachusetts state investigator and his team from \"At Risk\" confront a rogue association of municipal police departments.|[22.95,]|[[1212883200000]]|Putnam       |[4] |[0]           |THE FRONT               |[1]          |\n",
      "|[5b4aa4ead3089013507db18f]|http://www.amazon.com/Snuff-Chuck-Palahniuk/dp/0385517882?tag=NYTBS-20                   |Chuck Palahniuk  |[[1211587200000]]|An aging porn queens aims to cap her career by having sex on film with 600 men in one day.                                  |[24.95,]|[[1212883200000]]|Doubleday    |[5] |[0]           |SNUFF                   |[1]          |\n",
      "+--------------------------+-----------------------------------------------------------------------------------------+-----------------+-----------------+----------------------------------------------------------------------------------------------------------------------------+--------+-----------------+-------------+----+--------------+------------------------+-------------+\n",
      "only showing top 5 rows\n",
      "\n"
     ]
    }
   ],
   "source": [
    "df.show(5,truncate=False)"
   ]
  },
  {
   "cell_type": "code",
   "execution_count": 7,
   "id": "a311c485",
   "metadata": {},
   "outputs": [
    {
     "data": {
      "text/plain": [
       "10195"
      ]
     },
     "execution_count": 7,
     "metadata": {},
     "output_type": "execute_result"
    }
   ],
   "source": [
    "df.count()"
   ]
  },
  {
   "cell_type": "code",
   "execution_count": 8,
   "id": "d8770c0b",
   "metadata": {},
   "outputs": [
    {
     "data": {
      "text/plain": [
       "10195"
      ]
     },
     "execution_count": 8,
     "metadata": {},
     "output_type": "execute_result"
    }
   ],
   "source": [
    "uniq_df = df.dropDuplicates()\n",
    "uniq_df.count()"
   ]
  },
  {
   "cell_type": "code",
   "execution_count": 9,
   "id": "a4d1732f",
   "metadata": {},
   "outputs": [
    {
     "name": "stdout",
     "output_type": "stream",
     "text": [
      "+--------------------+\n",
      "|              author|\n",
      "+--------------------+\n",
      "|       Dean R Koontz|\n",
      "|     Stephenie Meyer|\n",
      "|        Emily Giffin|\n",
      "|   Patricia Cornwell|\n",
      "|     Chuck Palahniuk|\n",
      "|James Patterson a...|\n",
      "|       John Sandford|\n",
      "|       Jimmy Buffett|\n",
      "|    Elizabeth George|\n",
      "|      David Baldacci|\n",
      "+--------------------+\n",
      "only showing top 10 rows\n",
      "\n"
     ]
    }
   ],
   "source": [
    "df.select('author').show(10)"
   ]
  },
  {
   "cell_type": "code",
   "execution_count": 10,
   "id": "a21f61cd",
   "metadata": {},
   "outputs": [
    {
     "data": {
      "text/plain": [
       "['_id',\n",
       " 'amazon_product_url',\n",
       " 'author',\n",
       " 'bestsellers_date',\n",
       " 'description',\n",
       " 'price',\n",
       " 'published_date',\n",
       " 'publisher',\n",
       " 'rank',\n",
       " 'rank_last_week',\n",
       " 'title',\n",
       " 'weeks_on_list']"
      ]
     },
     "execution_count": 10,
     "metadata": {},
     "output_type": "execute_result"
    }
   ],
   "source": [
    "df.columns"
   ]
  },
  {
   "cell_type": "code",
   "execution_count": 11,
   "id": "96d6313b",
   "metadata": {},
   "outputs": [
    {
     "name": "stdout",
     "output_type": "stream",
     "text": [
      "+----------------------------------------+------------------------+-------------+--------+----+\n",
      "|author                                  |title                   |publisher    |price   |rank|\n",
      "+----------------------------------------+------------------------+-------------+--------+----+\n",
      "|Dean R Koontz                           |ODD HOURS               |Bantam       |[, 27]  |[1] |\n",
      "|Stephenie Meyer                         |THE HOST                |Little, Brown|[25.99,]|[2] |\n",
      "|Emily Giffin                            |LOVE THE ONE YOU'RE WITH|St. Martin's |[24.95,]|[3] |\n",
      "|Patricia Cornwell                       |THE FRONT               |Putnam       |[22.95,]|[4] |\n",
      "|Chuck Palahniuk                         |SNUFF                   |Doubleday    |[24.95,]|[5] |\n",
      "|James Patterson and Gabrielle Charbonnet|SUNDAYS AT TIFFANY’S    |Little, Brown|[24.99,]|[6] |\n",
      "|John Sandford                           |PHANTOM PREY            |Putnam       |[26.95,]|[7] |\n",
      "|Jimmy Buffett                           |SWINE NOT?              |Little, Brown|[21.99,]|[8] |\n",
      "|Elizabeth George                        |CARELESS IN RED         |Harper       |[27.95,]|[9] |\n",
      "|David Baldacci                          |THE WHOLE TRUTH         |Grand Central|[26.99,]|[10]|\n",
      "+----------------------------------------+------------------------+-------------+--------+----+\n",
      "only showing top 10 rows\n",
      "\n"
     ]
    }
   ],
   "source": [
    "df.select('author', 'title', 'publisher', 'price', 'rank').show(10, truncate=False)"
   ]
  },
  {
   "cell_type": "code",
   "execution_count": 12,
   "id": "e79bd08d",
   "metadata": {},
   "outputs": [
    {
     "name": "stdout",
     "output_type": "stream",
     "text": [
      "+--------------------+-----------------------------------------------------+\n",
      "|               title|CASE WHEN (NOT (title = ODD HOURS)) THEN 1 ELSE 0 END|\n",
      "+--------------------+-----------------------------------------------------+\n",
      "|           ODD HOURS|                                                    0|\n",
      "|            THE HOST|                                                    1|\n",
      "|LOVE THE ONE YOU'...|                                                    1|\n",
      "|           THE FRONT|                                                    1|\n",
      "|               SNUFF|                                                    1|\n",
      "|SUNDAYS AT TIFFANY’S|                                                    1|\n",
      "|        PHANTOM PREY|                                                    1|\n",
      "|          SWINE NOT?|                                                    1|\n",
      "|     CARELESS IN RED|                                                    1|\n",
      "|     THE WHOLE TRUTH|                                                    1|\n",
      "|          INVINCIBLE|                                                    1|\n",
      "|BRIGHT SHINY MORNING|                                                    1|\n",
      "|THE ART OF RACING...|                                                    1|\n",
      "|       TWENTY WISHES|                                                    1|\n",
      "|      THE STEEL WAVE|                                                    1|\n",
      "| EXECUTIVE PRIVILEGE|                                                    1|\n",
      "|  UNACCUSTOMED EARTH|                                                    1|\n",
      "|          NETHERLAND|                                                    1|\n",
      "|          THE APPEAL|                                                    1|\n",
      "|INDIANA JONES AND...|                                                    1|\n",
      "+--------------------+-----------------------------------------------------+\n",
      "only showing top 20 rows\n",
      "\n"
     ]
    }
   ],
   "source": [
    "from pyspark.sql.functions import *\n",
    "df.select('title',when(df.title != 'ODD HOURS', 1).otherwise(0)).show()"
   ]
  },
  {
   "cell_type": "code",
   "execution_count": 13,
   "id": "2ad559ef",
   "metadata": {},
   "outputs": [
    {
     "name": "stdout",
     "output_type": "stream",
     "text": [
      "+--------------------+--------------------+--------------+-----------------+--------------------+--------+-----------------+-------------+----+--------------+---------------+-------------+\n",
      "|                 _id|  amazon_product_url|        author| bestsellers_date|         description|   price|   published_date|    publisher|rank|rank_last_week|          title|weeks_on_list|\n",
      "+--------------------+--------------------+--------------+-----------------+--------------------+--------+-----------------+-------------+----+--------------+---------------+-------------+\n",
      "|[5b4aa4ead3089013...|http://www.amazon...| John Sandford|[[1211587200000]]|The Minneapolis d...|[26.95,]|[[1212883200000]]|       Putnam| [7]|           [4]|   PHANTOM PREY|          [3]|\n",
      "|[5b4aa4ead3089013...|http://www.amazon...|David Baldacci|[[1211587200000]]|An intelligence a...|[26.99,]|[[1212883200000]]|Grand Central|[10]|           [7]|THE WHOLE TRUTH|          [5]|\n",
      "|[5b4aa4ead3089013...|http://www.amazon...| John Sandford|[[1212192000000]]|The Minneapolis d...|[26.95,]|[[1213488000000]]|       Putnam| [9]|           [7]|   PHANTOM PREY|          [4]|\n",
      "|[5b4aa4ead3089013...|http://www.amazon...|David Baldacci|[[1212192000000]]|An intelligence a...|[26.99,]|[[1213488000000]]|Grand Central|[13]|          [10]|THE WHOLE TRUTH|          [6]|\n",
      "|[5b4aa4ead3089013...|http://www.amazon...| John Sandford|[[1212796800000]]|The Minneapolis d...|[26.95,]|[[1214092800000]]|       Putnam|[12]|           [9]|   PHANTOM PREY|          [5]|\n",
      "|[5b4aa4ead3089013...|http://www.amazon...| John Sandford|[[1214006400000]]|The Minneapolis d...|   [, 0]|[[1215302400000]]|       Putnam|[20]|           [0]|   PHANTOM PREY|          [0]|\n",
      "|[5b4aa4ead3089013...|http://www.amazon...| John Sandford|[[1222473600000]]|Virgil Flowers in...|[26.95,]|[[1223769600000]]|       Putnam| [2]|           [0]| HEAT LIGHTNING|          [1]|\n",
      "|[5b4aa4ead3089013...|http://www.amazon...| John Sandford|[[1223078400000]]|Virgil Flowers in...|[26.95,]|[[1224374400000]]|       Putnam| [4]|           [2]| HEAT LIGHTNING|          [2]|\n",
      "|[5b4aa4ead3089013...|http://www.amazon...| John Sandford|[[1223683200000]]|Virgil Flowers in...|[26.95,]|[[1224979200000]]|       Putnam| [6]|           [4]| HEAT LIGHTNING|          [3]|\n",
      "|[5b4aa4ead3089013...|http://www.amazon...| John Sandford|[[1224288000000]]|Virgil Flowers in...|[26.95,]|[[1225584000000]]|       Putnam| [7]|           [6]| HEAT LIGHTNING|          [4]|\n",
      "|[5b4aa4ead3089013...|http://www.amazon...| John Sandford|[[1224892800000]]|Virgil Flowers in...|[26.95,]|[[1226188800000]]|       Putnam|[13]|           [7]| HEAT LIGHTNING|          [5]|\n",
      "|[5b4aa4ead3089013...|http://www.amazon...| John Sandford|[[1225497600000]]|Virgil Flowers in...|   [, 0]|[[1226793600000]]|       Putnam|[20]|           [0]| HEAT LIGHTNING|          [0]|\n",
      "|[5b4aa4ead3089013...|http://www.amazon...|David Baldacci|[[1226102400000]]|Members of Washin...|  [, 27]|[[1227398400000]]|Grand Central| [1]|           [0]| DIVINE JUSTICE|          [1]|\n",
      "|[5b4aa4ead3089013...|http://www.amazon...|David Baldacci|[[1226707200000]]|Members of Washin...|  [, 27]|[[1228003200000]]|Grand Central| [3]|           [1]| DIVINE JUSTICE|          [2]|\n",
      "|[5b4aa4ead3089013...|http://www.amazon...|David Baldacci|[[1227312000000]]|Members of Washin...|  [, 27]|[[1228608000000]]|Grand Central| [5]|           [3]| DIVINE JUSTICE|          [3]|\n",
      "|[5b4aa4ead3089013...|http://www.amazon...|David Baldacci|[[1227916800000]]|Members of Washin...|  [, 27]|[[1229212800000]]|Grand Central| [8]|           [5]| DIVINE JUSTICE|          [4]|\n",
      "|[5b4aa4ead3089013...|http://www.amazon...|David Baldacci|[[1228521600000]]|Members of Washin...|  [, 27]|[[1229817600000]]|Grand Central|[11]|           [8]| DIVINE JUSTICE|          [5]|\n",
      "|[5b4aa4ead3089013...|http://www.amazon...|David Baldacci|[[1229126400000]]|Members of Washin...|  [, 27]|[[1230422400000]]|Grand Central|[11]|          [11]| DIVINE JUSTICE|          [6]|\n",
      "|[5b4aa4ead3089013...|http://www.amazon...|David Baldacci|[[1229731200000]]|Members of Washin...|  [, 27]|[[1231027200000]]|Grand Central|[11]|          [11]| DIVINE JUSTICE|          [7]|\n",
      "|[5b4aa4ead3089013...|http://www.amazon...|David Baldacci|[[1230336000000]]|Members of Washin...|  [, 27]|[[1231632000000]]|Grand Central|[10]|          [11]| DIVINE JUSTICE|          [8]|\n",
      "+--------------------+--------------------+--------------+-----------------+--------------------+--------+-----------------+-------------+----+--------------+---------------+-------------+\n",
      "only showing top 20 rows\n",
      "\n"
     ]
    }
   ],
   "source": [
    "df[df.author.isin(\"John Sandford\", \"David Baldacci\")].show()"
   ]
  },
  {
   "cell_type": "code",
   "execution_count": 14,
   "id": "754e1add",
   "metadata": {},
   "outputs": [
    {
     "name": "stdout",
     "output_type": "stream",
     "text": [
      "+--------------+---------------+-------------+--------+----+\n",
      "|        author|          title|    publisher|   price|rank|\n",
      "+--------------+---------------+-------------+--------+----+\n",
      "| John Sandford|   PHANTOM PREY|       Putnam|[26.95,]| [7]|\n",
      "|David Baldacci|THE WHOLE TRUTH|Grand Central|[26.99,]|[10]|\n",
      "| John Sandford|   PHANTOM PREY|       Putnam|[26.95,]| [9]|\n",
      "|David Baldacci|THE WHOLE TRUTH|Grand Central|[26.99,]|[13]|\n",
      "| John Sandford|   PHANTOM PREY|       Putnam|[26.95,]|[12]|\n",
      "| John Sandford|   PHANTOM PREY|       Putnam|   [, 0]|[20]|\n",
      "| John Sandford| HEAT LIGHTNING|       Putnam|[26.95,]| [2]|\n",
      "| John Sandford| HEAT LIGHTNING|       Putnam|[26.95,]| [4]|\n",
      "| John Sandford| HEAT LIGHTNING|       Putnam|[26.95,]| [6]|\n",
      "| John Sandford| HEAT LIGHTNING|       Putnam|[26.95,]| [7]|\n",
      "| John Sandford| HEAT LIGHTNING|       Putnam|[26.95,]|[13]|\n",
      "| John Sandford| HEAT LIGHTNING|       Putnam|   [, 0]|[20]|\n",
      "|David Baldacci| DIVINE JUSTICE|Grand Central|  [, 27]| [1]|\n",
      "|David Baldacci| DIVINE JUSTICE|Grand Central|  [, 27]| [3]|\n",
      "|David Baldacci| DIVINE JUSTICE|Grand Central|  [, 27]| [5]|\n",
      "|David Baldacci| DIVINE JUSTICE|Grand Central|  [, 27]| [8]|\n",
      "|David Baldacci| DIVINE JUSTICE|Grand Central|  [, 27]|[11]|\n",
      "|David Baldacci| DIVINE JUSTICE|Grand Central|  [, 27]|[11]|\n",
      "|David Baldacci| DIVINE JUSTICE|Grand Central|  [, 27]|[11]|\n",
      "|David Baldacci| DIVINE JUSTICE|Grand Central|  [, 27]|[10]|\n",
      "+--------------+---------------+-------------+--------+----+\n",
      "only showing top 20 rows\n",
      "\n"
     ]
    }
   ],
   "source": [
    "df[df.author.isin(\"John Sandford\", \"David Baldacci\")].select('author', 'title', 'publisher', 'price', 'rank').show()"
   ]
  },
  {
   "cell_type": "code",
   "execution_count": 15,
   "id": "435229dc",
   "metadata": {},
   "outputs": [
    {
     "name": "stdout",
     "output_type": "stream",
     "text": [
      "+--------------------+--------------------+--------+----+-------------------------------------------+\n",
      "|              author|               title|   price|rank|(author IN (John Sandford, David Baldacci))|\n",
      "+--------------------+--------------------+--------+----+-------------------------------------------+\n",
      "|       Dean R Koontz|           ODD HOURS|  [, 27]| [1]|                                      false|\n",
      "|     Stephenie Meyer|            THE HOST|[25.99,]| [2]|                                      false|\n",
      "|        Emily Giffin|LOVE THE ONE YOU'...|[24.95,]| [3]|                                      false|\n",
      "|   Patricia Cornwell|           THE FRONT|[22.95,]| [4]|                                      false|\n",
      "|     Chuck Palahniuk|               SNUFF|[24.95,]| [5]|                                      false|\n",
      "|James Patterson a...|SUNDAYS AT TIFFANY’S|[24.99,]| [6]|                                      false|\n",
      "|       John Sandford|        PHANTOM PREY|[26.95,]| [7]|                                       true|\n",
      "|       Jimmy Buffett|          SWINE NOT?|[21.99,]| [8]|                                      false|\n",
      "|    Elizabeth George|     CARELESS IN RED|[27.95,]| [9]|                                      false|\n",
      "|      David Baldacci|     THE WHOLE TRUTH|[26.99,]|[10]|                                       true|\n",
      "|        Troy Denning|          INVINCIBLE|  [, 27]|[11]|                                      false|\n",
      "|          James Frey|BRIGHT SHINY MORNING|[26.95,]|[12]|                                      false|\n",
      "|         Garth Stein|THE ART OF RACING...|[23.95,]|[13]|                                      false|\n",
      "|     Debbie Macomber|       TWENTY WISHES|[24.95,]|[14]|                                      false|\n",
      "|         Jeff Shaara|      THE STEEL WAVE|  [, 28]|[15]|                                      false|\n",
      "|    Phillip Margolin| EXECUTIVE PRIVILEGE|   [, 0]|[16]|                                      false|\n",
      "|       Jhumpa Lahiri|  UNACCUSTOMED EARTH|   [, 0]|[17]|                                      false|\n",
      "|      Joseph O'Neill|          NETHERLAND|   [, 0]|[18]|                                      false|\n",
      "|        John Grisham|          THE APPEAL|   [, 0]|[19]|                                      false|\n",
      "|       James Rollins|INDIANA JONES AND...|   [, 0]|[20]|                                      false|\n",
      "+--------------------+--------------------+--------+----+-------------------------------------------+\n",
      "only showing top 20 rows\n",
      "\n"
     ]
    }
   ],
   "source": [
    "df.select('author', 'title', 'price', 'rank',df.author.isin(\"John Sandford\", \"David Baldacci\")).show()"
   ]
  },
  {
   "cell_type": "code",
   "execution_count": 16,
   "id": "2629c67a",
   "metadata": {},
   "outputs": [
    {
     "name": "stdout",
     "output_type": "stream",
     "text": [
      "+----------------------------------------+-----------------------------+------------------+----------------+\n",
      "|author                                  |title                        |publisher         |title LIKE THE %|\n",
      "+----------------------------------------+-----------------------------+------------------+----------------+\n",
      "|Dean R Koontz                           |ODD HOURS                    |Bantam            |false           |\n",
      "|Stephenie Meyer                         |THE HOST                     |Little, Brown     |true            |\n",
      "|Emily Giffin                            |LOVE THE ONE YOU'RE WITH     |St. Martin's      |false           |\n",
      "|Patricia Cornwell                       |THE FRONT                    |Putnam            |true            |\n",
      "|Chuck Palahniuk                         |SNUFF                        |Doubleday         |false           |\n",
      "|James Patterson and Gabrielle Charbonnet|SUNDAYS AT TIFFANY’S         |Little, Brown     |false           |\n",
      "|John Sandford                           |PHANTOM PREY                 |Putnam            |false           |\n",
      "|Jimmy Buffett                           |SWINE NOT?                   |Little, Brown     |false           |\n",
      "|Elizabeth George                        |CARELESS IN RED              |Harper            |false           |\n",
      "|David Baldacci                          |THE WHOLE TRUTH              |Grand Central     |true            |\n",
      "|Troy Denning                            |INVINCIBLE                   |Del Rey/Ballantine|false           |\n",
      "|James Frey                              |BRIGHT SHINY MORNING         |Harper            |false           |\n",
      "|Garth Stein                             |THE ART OF RACING IN THE RAIN|Harper            |true            |\n",
      "|Debbie Macomber                         |TWENTY WISHES                |Mira              |false           |\n",
      "|Jeff Shaara                             |THE STEEL WAVE               |Ballantine        |true            |\n",
      "+----------------------------------------+-----------------------------+------------------+----------------+\n",
      "only showing top 15 rows\n",
      "\n"
     ]
    }
   ],
   "source": [
    "df.select('author', 'title', 'publisher',df.title.like(\"THE %\")).show(15,truncate=False)"
   ]
  },
  {
   "cell_type": "code",
   "execution_count": 17,
   "id": "f1145c67",
   "metadata": {},
   "outputs": [
    {
     "name": "stdout",
     "output_type": "stream",
     "text": [
      "+-------------+--------------------------------------------------+\n",
      "|author       |title                                             |\n",
      "+-------------+--------------------------------------------------+\n",
      "|Emily Giffin |LOVE THE ONE YOU'RE WITH                          |\n",
      "|Garth Stein  |THE ART OF RACING IN THE RAIN                     |\n",
      "|James Rollins|INDIANA JONES AND THE KINGDOM OF THE CRYSTAL SKULL|\n",
      "|Emily Giffin |LOVE THE ONE YOU'RE WITH                          |\n",
      "|Garth Stein  |THE ART OF RACING IN THE RAIN                     |\n",
      "|Emily Giffin |LOVE THE ONE YOU'RE WITH                          |\n",
      "|Garth Stein  |THE ART OF RACING IN THE RAIN                     |\n",
      "|Emily Giffin |LOVE THE ONE YOU'RE WITH                          |\n",
      "|Garth Stein  |THE ART OF RACING IN THE RAIN                     |\n",
      "|Emily Giffin |LOVE THE ONE YOU'RE WITH                          |\n",
      "|Garth Stein  |THE ART OF RACING IN THE RAIN                     |\n",
      "|Emily Giffin |LOVE THE ONE YOU'RE WITH                          |\n",
      "|Garth Stein  |THE ART OF RACING IN THE RAIN                     |\n",
      "|Emily Giffin |LOVE THE ONE YOU'RE WITH                          |\n",
      "|Garth Stein  |THE ART OF RACING IN THE RAIN                     |\n",
      "+-------------+--------------------------------------------------+\n",
      "only showing top 15 rows\n",
      "\n"
     ]
    }
   ],
   "source": [
    "df[df.title.like(\"% THE %\")].select('author', 'title').show(15,truncate=False)"
   ]
  },
  {
   "cell_type": "code",
   "execution_count": 18,
   "id": "9eff52fc",
   "metadata": {},
   "outputs": [
    {
     "name": "stdout",
     "output_type": "stream",
     "text": [
      "+-----------------+--------------------+-------------+\n",
      "|           author|               title|    publisher|\n",
      "+-----------------+--------------------+-------------+\n",
      "|  Stephenie Meyer|            THE HOST|Little, Brown|\n",
      "|Patricia Cornwell|           THE FRONT|       Putnam|\n",
      "|   David Baldacci|     THE WHOLE TRUTH|Grand Central|\n",
      "|      Garth Stein|THE ART OF RACING...|       Harper|\n",
      "|      Jeff Shaara|      THE STEEL WAVE|   Ballantine|\n",
      "+-----------------+--------------------+-------------+\n",
      "only showing top 5 rows\n",
      "\n"
     ]
    }
   ],
   "source": [
    "df[df.title.startswith(\"THE\")].select('author','title','publisher').show(5)"
   ]
  },
  {
   "cell_type": "code",
   "execution_count": 19,
   "id": "1ef6b588",
   "metadata": {},
   "outputs": [
    {
     "name": "stdout",
     "output_type": "stream",
     "text": [
      "+-----------------+------------------+---------+\n",
      "|           author|             title|publisher|\n",
      "+-----------------+------------------+---------+\n",
      "|Patricia Cornwell|         THE FRONT|   Putnam|\n",
      "|Patricia Cornwell|         THE FRONT|   Putnam|\n",
      "|Patricia Cornwell|         THE FRONT|   Putnam|\n",
      "|     Daniel Silva|THE SECRET SERVANT|   Putnam|\n",
      "|     Daniel Silva|THE SECRET SERVANT|   Putnam|\n",
      "+-----------------+------------------+---------+\n",
      "only showing top 5 rows\n",
      "\n"
     ]
    }
   ],
   "source": [
    "df[df.title.endswith(\"NT\")].select('author','title','publisher').show(5)"
   ]
  },
  {
   "cell_type": "code",
   "execution_count": 20,
   "id": "ecab0d46",
   "metadata": {},
   "outputs": [
    {
     "name": "stdout",
     "output_type": "stream",
     "text": [
      "+-----------------+-------------------+--------------+\n",
      "|           author|              title|     publisher|\n",
      "+-----------------+-------------------+--------------+\n",
      "|       Dale Brown|   EXECUTIVE INTENT|William Morrow|\n",
      "|        P D James|THE PRIVATE PATIENT|         Knopf|\n",
      "|   Kazuo Ishiguro|   THE BURIED GIANT|         Knopf|\n",
      "|   Danielle Steel|      THE APARTMENT|     Delacorte|\n",
      "|Patricia Cornwell|          THE FRONT|        Putnam|\n",
      "+-----------------+-------------------+--------------+\n",
      "only showing top 5 rows\n",
      "\n"
     ]
    }
   ],
   "source": [
    "df[df.title.endswith(\"NT\")].select('author','title','publisher').dropDuplicates().show(5)"
   ]
  },
  {
   "cell_type": "code",
   "execution_count": 21,
   "id": "38a2acf3",
   "metadata": {},
   "outputs": [
    {
     "name": "stdout",
     "output_type": "stream",
     "text": [
      "+-----+\n",
      "|title|\n",
      "+-----+\n",
      "|  Dea|\n",
      "|  Ste|\n",
      "|  Emi|\n",
      "|  Pat|\n",
      "|  Chu|\n",
      "+-----+\n",
      "only showing top 5 rows\n",
      "\n"
     ]
    }
   ],
   "source": [
    "df.select(df.author.substr(1,3).alias('title')).show(5)"
   ]
  },
  {
   "cell_type": "code",
   "execution_count": 22,
   "id": "804bf2d2",
   "metadata": {},
   "outputs": [
    {
     "name": "stdout",
     "output_type": "stream",
     "text": [
      "+--------------------+--------------------+-------------------+--------------------+\n",
      "|              author|               title|          publisher|             new_col|\n",
      "+--------------------+--------------------+-------------------+--------------------+\n",
      "|          Dale Brown|    EXECUTIVE INTENT|     William Morrow|This is a new column|\n",
      "|           P D James| THE PRIVATE PATIENT|              Knopf|This is a new column|\n",
      "|      Kazuo Ishiguro|    THE BURIED GIANT|              Knopf|This is a new column|\n",
      "|      Danielle Steel|       THE APARTMENT|          Delacorte|This is a new column|\n",
      "|   Patricia Cornwell|           THE FRONT|             Putnam|This is a new column|\n",
      "|James Patterson a...|    THE 9TH JUDGMENT|      Little, Brown|This is a new column|\n",
      "|           J A Jance|        CRUEL INTENT|         Touchstone|This is a new column|\n",
      "|      Kristin Hannah|          HOME FRONT|       St. Martin’s|This is a new column|\n",
      "|       Alex Berenson|THE COUNTERFEIT A...|             Putnam|This is a new column|\n",
      "|             C J Box|      BREAKING POINT|             Putnam|This is a new column|\n",
      "|             Amy Tan|THE VALLEY OF AMA...| Ecco/HarperCollins|This is a new column|\n",
      "|        Tim Johnston|             DESCENT|          Algonquin|This is a new column|\n",
      "|         Scott Turow|            INNOCENT|      Grand Central|This is a new column|\n",
      "|          Judy Blume|IN THE UNLIKELY E...|              Knopf|This is a new column|\n",
      "|           Brad Thor|       FOREIGN AGENT|Emily Bestler/Atria|This is a new column|\n",
      "|      David Baldacci|        THE INNOCENT|      Grand Central|This is a new column|\n",
      "|       John Sandford|         STORM FRONT|             Putnam|This is a new column|\n",
      "|           Phil Klay|        REDEPLOYMENT|      Penguin Press|This is a new column|\n",
      "|     Chris Bohjalian|THE FLIGHT ATTENDANT|          Doubleday|This is a new column|\n",
      "|      Ridley Pearson|      THE RISK AGENT|             Putnam|This is a new column|\n",
      "+--------------------+--------------------+-------------------+--------------------+\n",
      "only showing top 20 rows\n",
      "\n"
     ]
    }
   ],
   "source": [
    "# Adding cols\n",
    "new_df = df[df.title.endswith(\"NT\")].select('author','title','publisher').dropDuplicates()\n",
    "updated_new_df = new_df.withColumn('new_col', lit('This is a new column'))\n",
    "updated_new_df.show()"
   ]
  },
  {
   "cell_type": "code",
   "execution_count": 23,
   "id": "ed0efc48",
   "metadata": {},
   "outputs": [
    {
     "name": "stdout",
     "output_type": "stream",
     "text": [
      "+--------------------+--------------------+-------------------+--------------------+\n",
      "|              author|               title|          publisher|           added_col|\n",
      "+--------------------+--------------------+-------------------+--------------------+\n",
      "|          Dale Brown|    EXECUTIVE INTENT|     William Morrow|This is a new column|\n",
      "|           P D James| THE PRIVATE PATIENT|              Knopf|This is a new column|\n",
      "|      Kazuo Ishiguro|    THE BURIED GIANT|              Knopf|This is a new column|\n",
      "|      Danielle Steel|       THE APARTMENT|          Delacorte|This is a new column|\n",
      "|   Patricia Cornwell|           THE FRONT|             Putnam|This is a new column|\n",
      "|James Patterson a...|    THE 9TH JUDGMENT|      Little, Brown|This is a new column|\n",
      "|           J A Jance|        CRUEL INTENT|         Touchstone|This is a new column|\n",
      "|      Kristin Hannah|          HOME FRONT|       St. Martin’s|This is a new column|\n",
      "|       Alex Berenson|THE COUNTERFEIT A...|             Putnam|This is a new column|\n",
      "|             C J Box|      BREAKING POINT|             Putnam|This is a new column|\n",
      "|             Amy Tan|THE VALLEY OF AMA...| Ecco/HarperCollins|This is a new column|\n",
      "|        Tim Johnston|             DESCENT|          Algonquin|This is a new column|\n",
      "|         Scott Turow|            INNOCENT|      Grand Central|This is a new column|\n",
      "|          Judy Blume|IN THE UNLIKELY E...|              Knopf|This is a new column|\n",
      "|           Brad Thor|       FOREIGN AGENT|Emily Bestler/Atria|This is a new column|\n",
      "|      David Baldacci|        THE INNOCENT|      Grand Central|This is a new column|\n",
      "|       John Sandford|         STORM FRONT|             Putnam|This is a new column|\n",
      "|           Phil Klay|        REDEPLOYMENT|      Penguin Press|This is a new column|\n",
      "|     Chris Bohjalian|THE FLIGHT ATTENDANT|          Doubleday|This is a new column|\n",
      "|      Ridley Pearson|      THE RISK AGENT|             Putnam|This is a new column|\n",
      "+--------------------+--------------------+-------------------+--------------------+\n",
      "only showing top 20 rows\n",
      "\n"
     ]
    }
   ],
   "source": [
    "# updating col\n",
    "updated_new_df = updated_new_df.withColumnRenamed('new_col', 'added_col')\n",
    "updated_new_df.show()"
   ]
  },
  {
   "cell_type": "code",
   "execution_count": 24,
   "id": "805c1640",
   "metadata": {},
   "outputs": [
    {
     "name": "stdout",
     "output_type": "stream",
     "text": [
      "+--------------------+--------------------+-------------------+\n",
      "|              author|               title|          publisher|\n",
      "+--------------------+--------------------+-------------------+\n",
      "|          Dale Brown|    EXECUTIVE INTENT|     William Morrow|\n",
      "|           P D James| THE PRIVATE PATIENT|              Knopf|\n",
      "|      Kazuo Ishiguro|    THE BURIED GIANT|              Knopf|\n",
      "|      Danielle Steel|       THE APARTMENT|          Delacorte|\n",
      "|   Patricia Cornwell|           THE FRONT|             Putnam|\n",
      "|James Patterson a...|    THE 9TH JUDGMENT|      Little, Brown|\n",
      "|           J A Jance|        CRUEL INTENT|         Touchstone|\n",
      "|      Kristin Hannah|          HOME FRONT|       St. Martin’s|\n",
      "|       Alex Berenson|THE COUNTERFEIT A...|             Putnam|\n",
      "|             C J Box|      BREAKING POINT|             Putnam|\n",
      "|             Amy Tan|THE VALLEY OF AMA...| Ecco/HarperCollins|\n",
      "|        Tim Johnston|             DESCENT|          Algonquin|\n",
      "|         Scott Turow|            INNOCENT|      Grand Central|\n",
      "|          Judy Blume|IN THE UNLIKELY E...|              Knopf|\n",
      "|           Brad Thor|       FOREIGN AGENT|Emily Bestler/Atria|\n",
      "|      David Baldacci|        THE INNOCENT|      Grand Central|\n",
      "|       John Sandford|         STORM FRONT|             Putnam|\n",
      "|           Phil Klay|        REDEPLOYMENT|      Penguin Press|\n",
      "|     Chris Bohjalian|THE FLIGHT ATTENDANT|          Doubleday|\n",
      "|      Ridley Pearson|      THE RISK AGENT|             Putnam|\n",
      "+--------------------+--------------------+-------------------+\n",
      "only showing top 20 rows\n",
      "\n"
     ]
    }
   ],
   "source": [
    "# Dropping cols\n",
    "df_remove = updated_new_df.drop('added_col')\n",
    "df_remove.show()"
   ]
  },
  {
   "cell_type": "code",
   "execution_count": 25,
   "id": "db4ce6a3",
   "metadata": {},
   "outputs": [],
   "source": [
    "# Inspecting data"
   ]
  },
  {
   "cell_type": "code",
   "execution_count": 26,
   "id": "282ca9d1",
   "metadata": {},
   "outputs": [
    {
     "data": {
      "text/plain": [
       "[('_id', 'struct<$oid:string>'),\n",
       " ('amazon_product_url', 'string'),\n",
       " ('author', 'string'),\n",
       " ('bestsellers_date', 'struct<$date:struct<$numberLong:string>>'),\n",
       " ('description', 'string'),\n",
       " ('price', 'struct<$numberDouble:string,$numberInt:string>'),\n",
       " ('published_date', 'struct<$date:struct<$numberLong:string>>'),\n",
       " ('publisher', 'string'),\n",
       " ('rank', 'struct<$numberInt:string>'),\n",
       " ('rank_last_week', 'struct<$numberInt:string>'),\n",
       " ('title', 'string'),\n",
       " ('weeks_on_list', 'struct<$numberInt:string>')]"
      ]
     },
     "execution_count": 26,
     "metadata": {},
     "output_type": "execute_result"
    }
   ],
   "source": [
    "df.dtypes"
   ]
  },
  {
   "cell_type": "code",
   "execution_count": 27,
   "id": "6876966c",
   "metadata": {},
   "outputs": [
    {
     "data": {
      "text/plain": [
       "Row(_id=Row($oid='5b4aa4ead3089013507db18b'), amazon_product_url='http://www.amazon.com/Odd-Hours-Dean-Koontz/dp/0553807056?tag=NYTBS-20', author='Dean R Koontz', bestsellers_date=Row($date=Row($numberLong='1211587200000')), description='Odd Thomas, who can communicate with the dead, confronts evil forces in a California coastal town.', price=Row($numberDouble=None, $numberInt='27'), published_date=Row($date=Row($numberLong='1212883200000')), publisher='Bantam', rank=Row($numberInt='1'), rank_last_week=Row($numberInt='0'), title='ODD HOURS', weeks_on_list=Row($numberInt='1'))"
      ]
     },
     "execution_count": 27,
     "metadata": {},
     "output_type": "execute_result"
    }
   ],
   "source": [
    "df.first()"
   ]
  },
  {
   "cell_type": "code",
   "execution_count": 28,
   "id": "c4b73464",
   "metadata": {},
   "outputs": [
    {
     "data": {
      "text/plain": [
       "'http://www.amazon.com/Odd-Hours-Dean-Koontz/dp/0553807056?tag=NYTBS-20'"
      ]
     },
     "execution_count": 28,
     "metadata": {},
     "output_type": "execute_result"
    }
   ],
   "source": [
    "df.first()['amazon_product_url']"
   ]
  },
  {
   "cell_type": "code",
   "execution_count": 29,
   "id": "efe004c2",
   "metadata": {},
   "outputs": [
    {
     "data": {
      "text/plain": [
       "'Dean R Koontz'"
      ]
     },
     "execution_count": 29,
     "metadata": {},
     "output_type": "execute_result"
    }
   ],
   "source": [
    "df.first()['author']"
   ]
  },
  {
   "cell_type": "code",
   "execution_count": 30,
   "id": "eacb43b5",
   "metadata": {},
   "outputs": [
    {
     "data": {
      "text/plain": [
       "[Row(_id=Row($oid='5b4aa4ead3089013507db18b'), amazon_product_url='http://www.amazon.com/Odd-Hours-Dean-Koontz/dp/0553807056?tag=NYTBS-20', author='Dean R Koontz', bestsellers_date=Row($date=Row($numberLong='1211587200000')), description='Odd Thomas, who can communicate with the dead, confronts evil forces in a California coastal town.', price=Row($numberDouble=None, $numberInt='27'), published_date=Row($date=Row($numberLong='1212883200000')), publisher='Bantam', rank=Row($numberInt='1'), rank_last_week=Row($numberInt='0'), title='ODD HOURS', weeks_on_list=Row($numberInt='1')),\n",
       " Row(_id=Row($oid='5b4aa4ead3089013507db18c'), amazon_product_url='http://www.amazon.com/The-Host-Novel-Stephenie-Meyer/dp/0316218502?tag=NYTBS-20', author='Stephenie Meyer', bestsellers_date=Row($date=Row($numberLong='1211587200000')), description='Aliens have taken control of the minds and bodies of most humans, but one woman won’t surrender.', price=Row($numberDouble='25.99', $numberInt=None), published_date=Row($date=Row($numberLong='1212883200000')), publisher='Little, Brown', rank=Row($numberInt='2'), rank_last_week=Row($numberInt='1'), title='THE HOST', weeks_on_list=Row($numberInt='3')),\n",
       " Row(_id=Row($oid='5b4aa4ead3089013507db18d'), amazon_product_url='http://www.amazon.com/Love-Youre-With-Emily-Giffin/dp/0312348665?tag=NYTBS-20', author='Emily Giffin', bestsellers_date=Row($date=Row($numberLong='1211587200000')), description=\"A woman's happy marriage is shaken when she encounters an old boyfriend.\", price=Row($numberDouble='24.95', $numberInt=None), published_date=Row($date=Row($numberLong='1212883200000')), publisher=\"St. Martin's\", rank=Row($numberInt='3'), rank_last_week=Row($numberInt='2'), title=\"LOVE THE ONE YOU'RE WITH\", weeks_on_list=Row($numberInt='2')),\n",
       " Row(_id=Row($oid='5b4aa4ead3089013507db18e'), amazon_product_url='http://www.amazon.com/The-Front-Garano-Patricia-Cornwell-ebook/dp/B0017T0C9M?tag=NYTBS-20', author='Patricia Cornwell', bestsellers_date=Row($date=Row($numberLong='1211587200000')), description='A Massachusetts state investigator and his team from \"At Risk\" confront a rogue association of municipal police departments.', price=Row($numberDouble='22.95', $numberInt=None), published_date=Row($date=Row($numberLong='1212883200000')), publisher='Putnam', rank=Row($numberInt='4'), rank_last_week=Row($numberInt='0'), title='THE FRONT', weeks_on_list=Row($numberInt='1')),\n",
       " Row(_id=Row($oid='5b4aa4ead3089013507db18f'), amazon_product_url='http://www.amazon.com/Snuff-Chuck-Palahniuk/dp/0385517882?tag=NYTBS-20', author='Chuck Palahniuk', bestsellers_date=Row($date=Row($numberLong='1211587200000')), description='An aging porn queens aims to cap her career by having sex on film with 600 men in one day.', price=Row($numberDouble='24.95', $numberInt=None), published_date=Row($date=Row($numberLong='1212883200000')), publisher='Doubleday', rank=Row($numberInt='5'), rank_last_week=Row($numberInt='0'), title='SNUFF', weeks_on_list=Row($numberInt='1'))]"
      ]
     },
     "execution_count": 30,
     "metadata": {},
     "output_type": "execute_result"
    }
   ],
   "source": [
    "df.take(5)"
   ]
  },
  {
   "cell_type": "code",
   "execution_count": 31,
   "id": "98202dfd",
   "metadata": {},
   "outputs": [
    {
     "name": "stdout",
     "output_type": "stream",
     "text": [
      "+-------+--------------------+---------------+--------------------+---------+------------------+\n",
      "|summary|  amazon_product_url|         author|         description|publisher|             title|\n",
      "+-------+--------------------+---------------+--------------------+---------+------------------+\n",
      "|  count|               10195|          10195|               10195|    10195|             10195|\n",
      "|   mean|                null|           null|                null|     null|1877.7142857142858|\n",
      "| stddev|                null|           null|                null|     null| 370.9760613506458|\n",
      "|    min|http://www.amazon...|        AJ Finn|                    |      ACE|  10TH ANNIVERSARY|\n",
      "|    max|https://www.amazo...|various authors|’Tis for the Rebe...|allantine|               ZOO|\n",
      "+-------+--------------------+---------------+--------------------+---------+------------------+\n",
      "\n"
     ]
    }
   ],
   "source": [
    "df.describe().show()"
   ]
  },
  {
   "cell_type": "code",
   "execution_count": 32,
   "id": "17a05beb",
   "metadata": {},
   "outputs": [
    {
     "data": {
      "text/plain": [
       "10195"
      ]
     },
     "execution_count": 32,
     "metadata": {},
     "output_type": "execute_result"
    }
   ],
   "source": [
    "df.distinct().count()"
   ]
  },
  {
   "cell_type": "code",
   "execution_count": 33,
   "id": "b2e7e473",
   "metadata": {},
   "outputs": [
    {
     "name": "stdout",
     "output_type": "stream",
     "text": [
      "+--------------------+-----+\n",
      "|              author|count|\n",
      "+--------------------+-----+\n",
      "|          James Frey|    2|\n",
      "|    Elin Hilderbrand|   58|\n",
      "|   Sharon Kay Penman|    2|\n",
      "|         Lisa Genova|    7|\n",
      "|        Will Allison|    1|\n",
      "|   Patricia Cornwell|   64|\n",
      "|       Laurie R King|    6|\n",
      "|          Tea Obreht|    6|\n",
      "|        Sarah Dunant|    1|\n",
      "|        Tim Johnston|    1|\n",
      "|          Sara Gruen|   13|\n",
      "|Tom Clancy with P...|    9|\n",
      "|         Andre Dubus|    1|\n",
      "|        Terry Brooks|   19|\n",
      "|        Lisa Wingate|   42|\n",
      "|        Daniel Silva|   69|\n",
      "|Karen White, Beat...|    1|\n",
      "|      Rachel Kushner|    3|\n",
      "|      Jackie Collins|   14|\n",
      "|          Pat Conroy|   11|\n",
      "+--------------------+-----+\n",
      "only showing top 20 rows\n",
      "\n"
     ]
    }
   ],
   "source": [
    "# GROUP BY\n",
    "df.groupBy('author').count().show()"
   ]
  },
  {
   "cell_type": "code",
   "execution_count": 34,
   "id": "56c9bdaf",
   "metadata": {},
   "outputs": [
    {
     "name": "stdout",
     "output_type": "stream",
     "text": [
      "+--------------------+--------------------+---------------+-----------------+--------------------+--------+-----------------+-------------+----+--------------+--------+-------------+\n",
      "|                 _id|  amazon_product_url|         author| bestsellers_date|         description|   price|   published_date|    publisher|rank|rank_last_week|   title|weeks_on_list|\n",
      "+--------------------+--------------------+---------------+-----------------+--------------------+--------+-----------------+-------------+----+--------------+--------+-------------+\n",
      "|[5b4aa4ead3089013...|http://www.amazon...|Stephenie Meyer|[[1211587200000]]|Aliens have taken...|[25.99,]|[[1212883200000]]|Little, Brown| [2]|           [1]|THE HOST|          [3]|\n",
      "|[5b4aa4ead3089013...|http://www.amazon...|Stephenie Meyer|[[1212192000000]]|Aliens have taken...|[25.99,]|[[1213488000000]]|Little, Brown| [2]|           [2]|THE HOST|          [4]|\n",
      "|[5b4aa4ead3089013...|http://www.amazon...|Stephenie Meyer|[[1212796800000]]|Aliens have taken...|[25.99,]|[[1214092800000]]|Little, Brown| [2]|           [2]|THE HOST|          [5]|\n",
      "|[5b4aa4ead3089013...|http://www.amazon...|Stephenie Meyer|[[1213401600000]]|Aliens have taken...|[25.99,]|[[1214697600000]]|Little, Brown| [3]|           [2]|THE HOST|          [6]|\n",
      "|[5b4aa4ead3089013...|http://www.amazon...|Stephenie Meyer|[[1214006400000]]|Aliens have taken...|[25.99,]|[[1215302400000]]|Little, Brown| [3]|           [3]|THE HOST|          [7]|\n",
      "+--------------------+--------------------+---------------+-----------------+--------------------+--------+-----------------+-------------+----+--------------+--------+-------------+\n",
      "only showing top 5 rows\n",
      "\n"
     ]
    }
   ],
   "source": [
    "# Filter Operation\n",
    "df.filter(df['title'] == 'THE HOST').show(5)"
   ]
  },
  {
   "cell_type": "code",
   "execution_count": 35,
   "id": "46279b23",
   "metadata": {},
   "outputs": [
    {
     "ename": "TypeError",
     "evalue": "fill() missing 1 required positional argument: 'value'",
     "output_type": "error",
     "traceback": [
      "\u001b[0;31m---------------------------------------------------------------------------\u001b[0m",
      "\u001b[0;31mTypeError\u001b[0m                                 Traceback (most recent call last)",
      "\u001b[0;32m<ipython-input-35-41f65747dab0>\u001b[0m in \u001b[0;36m<module>\u001b[0;34m\u001b[0m\n\u001b[1;32m      1\u001b[0m \u001b[0;31m# Missing and Replacing Values\u001b[0m\u001b[0;34m\u001b[0m\u001b[0;34m\u001b[0m\u001b[0;34m\u001b[0m\u001b[0m\n\u001b[0;32m----> 2\u001b[0;31m \u001b[0mdf\u001b[0m\u001b[0;34m.\u001b[0m\u001b[0mna\u001b[0m\u001b[0;34m.\u001b[0m\u001b[0mfill\u001b[0m\u001b[0;34m(\u001b[0m\u001b[0;34m)\u001b[0m\u001b[0;34m\u001b[0m\u001b[0;34m\u001b[0m\u001b[0m\n\u001b[0m\u001b[1;32m      3\u001b[0m \u001b[0;31m# OR\u001b[0m\u001b[0;34m\u001b[0m\u001b[0;34m\u001b[0m\u001b[0;34m\u001b[0m\u001b[0m\n\u001b[1;32m      4\u001b[0m \u001b[0mdf\u001b[0m\u001b[0;34m.\u001b[0m\u001b[0mfillna\u001b[0m\u001b[0;34m(\u001b[0m\u001b[0;34m)\u001b[0m\u001b[0;34m\u001b[0m\u001b[0;34m\u001b[0m\u001b[0m\n",
      "\u001b[0;31mTypeError\u001b[0m: fill() missing 1 required positional argument: 'value'"
     ]
    }
   ],
   "source": [
    "# Missing and Replacing Values\n",
    "df.na.fill()\n",
    "# OR\n",
    "df.fillna()"
   ]
  },
  {
   "cell_type": "code",
   "execution_count": 36,
   "id": "3d8cc108",
   "metadata": {},
   "outputs": [
    {
     "data": {
      "text/plain": [
       "2"
      ]
     },
     "execution_count": 36,
     "metadata": {},
     "output_type": "execute_result"
    }
   ],
   "source": [
    "# Repartitioning\n",
    "df.rdd.getNumPartitions()"
   ]
  },
  {
   "cell_type": "code",
   "execution_count": 37,
   "id": "665402e3",
   "metadata": {},
   "outputs": [
    {
     "data": {
      "text/plain": [
       "10"
      ]
     },
     "execution_count": 37,
     "metadata": {},
     "output_type": "execute_result"
    }
   ],
   "source": [
    "df.repartition(10).rdd.getNumPartitions()"
   ]
  },
  {
   "cell_type": "code",
   "execution_count": 38,
   "id": "f8c23a7a",
   "metadata": {},
   "outputs": [
    {
     "data": {
      "text/plain": [
       "2"
      ]
     },
     "execution_count": 38,
     "metadata": {},
     "output_type": "execute_result"
    }
   ],
   "source": [
    "df.coalesce(2).rdd.getNumPartitions()"
   ]
  },
  {
   "cell_type": "code",
   "execution_count": null,
   "id": "56512769",
   "metadata": {},
   "outputs": [],
   "source": [
    "# CONVERSION\n",
    "# Converting dataframe into an RDD\n",
    "rdd_convert = df.rdd\n",
    "# Converting dataframe into a RDD of string \n",
    "df.toJSON().first()\n",
    "# Obtaining contents of df as Pandas \n",
    "df.toPandas()"
   ]
  },
  {
   "cell_type": "code",
   "execution_count": null,
   "id": "b55ab8b4",
   "metadata": {},
   "outputs": [],
   "source": [
    "# Write & Save File in .parquet format\n",
    "dataframe.select(\"author\", \"title\", \"rank\", \"description\") \\\n",
    ".write \\\n",
    ".save(\"Rankings_Descriptions.parquet\")\n",
    "\n",
    "\n",
    "# Write & Save File in .json format\n",
    "dataframe.select(\"author\", \"title\") \\\n",
    ".write \\\n",
    ".save(\"Authors_Titles.json\",format=\"json\")"
   ]
  },
  {
   "cell_type": "code",
   "execution_count": 39,
   "id": "5e3d1135",
   "metadata": {},
   "outputs": [],
   "source": [
    "spark.stop()"
   ]
  },
  {
   "cell_type": "code",
   "execution_count": 40,
   "id": "124baeb2",
   "metadata": {},
   "outputs": [
    {
     "ename": "Py4JJavaError",
     "evalue": "An error occurred while calling o31.showString.\n: java.lang.IllegalStateException: Cannot call methods on a stopped SparkContext.\nThis stopped SparkContext was created at:\n\norg.apache.spark.api.java.JavaSparkContext.<init>(JavaSparkContext.scala:58)\nsun.reflect.NativeConstructorAccessorImpl.newInstance0(Native Method)\nsun.reflect.NativeConstructorAccessorImpl.newInstance(NativeConstructorAccessorImpl.java:62)\nsun.reflect.DelegatingConstructorAccessorImpl.newInstance(DelegatingConstructorAccessorImpl.java:45)\njava.lang.reflect.Constructor.newInstance(Constructor.java:423)\npy4j.reflection.MethodInvoker.invoke(MethodInvoker.java:247)\npy4j.reflection.ReflectionEngine.invoke(ReflectionEngine.java:357)\npy4j.Gateway.invoke(Gateway.java:238)\npy4j.commands.ConstructorCommand.invokeConstructor(ConstructorCommand.java:80)\npy4j.commands.ConstructorCommand.execute(ConstructorCommand.java:69)\npy4j.GatewayConnection.run(GatewayConnection.java:238)\njava.lang.Thread.run(Thread.java:748)\n\nThe currently active SparkContext was created at:\n\n(No active SparkContext.)\n         \n\tat org.apache.spark.SparkContext.assertNotStopped(SparkContext.scala:111)\n\tat org.apache.spark.SparkContext.broadcast(SparkContext.scala:1471)\n\tat org.apache.spark.sql.execution.datasources.json.JsonFileFormat.buildReader(JsonFileFormat.scala:101)\n\tat org.apache.spark.sql.execution.datasources.FileFormat.buildReaderWithPartitionValues(FileFormat.scala:130)\n\tat org.apache.spark.sql.execution.datasources.FileFormat.buildReaderWithPartitionValues$(FileFormat.scala:121)\n\tat org.apache.spark.sql.execution.datasources.TextBasedFileFormat.buildReaderWithPartitionValues(FileFormat.scala:170)\n\tat org.apache.spark.sql.execution.FileSourceScanExec.inputRDD$lzycompute(DataSourceScanExec.scala:398)\n\tat org.apache.spark.sql.execution.FileSourceScanExec.inputRDD(DataSourceScanExec.scala:389)\n\tat org.apache.spark.sql.execution.FileSourceScanExec.doExecute(DataSourceScanExec.scala:472)\n\tat org.apache.spark.sql.execution.SparkPlan.$anonfun$execute$1(SparkPlan.scala:175)\n\tat org.apache.spark.sql.execution.SparkPlan.$anonfun$executeQuery$1(SparkPlan.scala:213)\n\tat org.apache.spark.rdd.RDDOperationScope$.withScope(RDDOperationScope.scala:151)\n\tat org.apache.spark.sql.execution.SparkPlan.executeQuery(SparkPlan.scala:210)\n\tat org.apache.spark.sql.execution.SparkPlan.execute(SparkPlan.scala:171)\n\tat org.apache.spark.sql.execution.InputAdapter.inputRDD(WholeStageCodegenExec.scala:525)\n\tat org.apache.spark.sql.execution.InputRDDCodegen.inputRDDs(WholeStageCodegenExec.scala:453)\n\tat org.apache.spark.sql.execution.InputRDDCodegen.inputRDDs$(WholeStageCodegenExec.scala:452)\n\tat org.apache.spark.sql.execution.InputAdapter.inputRDDs(WholeStageCodegenExec.scala:496)\n\tat org.apache.spark.sql.execution.ProjectExec.inputRDDs(basicPhysicalOperators.scala:47)\n\tat org.apache.spark.sql.execution.WholeStageCodegenExec.doExecute(WholeStageCodegenExec.scala:720)\n\tat org.apache.spark.sql.execution.SparkPlan.$anonfun$execute$1(SparkPlan.scala:175)\n\tat org.apache.spark.sql.execution.SparkPlan.$anonfun$executeQuery$1(SparkPlan.scala:213)\n\tat org.apache.spark.rdd.RDDOperationScope$.withScope(RDDOperationScope.scala:151)\n\tat org.apache.spark.sql.execution.SparkPlan.executeQuery(SparkPlan.scala:210)\n\tat org.apache.spark.sql.execution.SparkPlan.execute(SparkPlan.scala:171)\n\tat org.apache.spark.sql.execution.SparkPlan.getByteArrayRdd(SparkPlan.scala:316)\n\tat org.apache.spark.sql.execution.SparkPlan.executeTake(SparkPlan.scala:434)\n\tat org.apache.spark.sql.execution.SparkPlan.executeTake(SparkPlan.scala:420)\n\tat org.apache.spark.sql.execution.CollectLimitExec.executeCollect(limit.scala:47)\n\tat org.apache.spark.sql.Dataset.collectFromPlan(Dataset.scala:3625)\n\tat org.apache.spark.sql.Dataset.$anonfun$head$1(Dataset.scala:2695)\n\tat org.apache.spark.sql.Dataset.$anonfun$withAction$1(Dataset.scala:3616)\n\tat org.apache.spark.sql.execution.SQLExecution$.$anonfun$withNewExecutionId$5(SQLExecution.scala:100)\n\tat org.apache.spark.sql.execution.SQLExecution$.withSQLConfPropagated(SQLExecution.scala:160)\n\tat org.apache.spark.sql.execution.SQLExecution$.$anonfun$withNewExecutionId$1(SQLExecution.scala:87)\n\tat org.apache.spark.sql.SparkSession.withActive(SparkSession.scala:763)\n\tat org.apache.spark.sql.execution.SQLExecution$.withNewExecutionId(SQLExecution.scala:64)\n\tat org.apache.spark.sql.Dataset.withAction(Dataset.scala:3614)\n\tat org.apache.spark.sql.Dataset.head(Dataset.scala:2695)\n\tat org.apache.spark.sql.Dataset.take(Dataset.scala:2902)\n\tat org.apache.spark.sql.Dataset.getRows(Dataset.scala:300)\n\tat org.apache.spark.sql.Dataset.showString(Dataset.scala:337)\n\tat sun.reflect.GeneratedMethodAccessor74.invoke(Unknown Source)\n\tat sun.reflect.DelegatingMethodAccessorImpl.invoke(DelegatingMethodAccessorImpl.java:43)\n\tat java.lang.reflect.Method.invoke(Method.java:498)\n\tat py4j.reflection.MethodInvoker.invoke(MethodInvoker.java:244)\n\tat py4j.reflection.ReflectionEngine.invoke(ReflectionEngine.java:357)\n\tat py4j.Gateway.invoke(Gateway.java:282)\n\tat py4j.commands.AbstractCommand.invokeMethod(AbstractCommand.java:132)\n\tat py4j.commands.CallCommand.execute(CallCommand.java:79)\n\tat py4j.GatewayConnection.run(GatewayConnection.java:238)\n\tat java.lang.Thread.run(Thread.java:748)\n",
     "output_type": "error",
     "traceback": [
      "\u001b[0;31m---------------------------------------------------------------------------\u001b[0m",
      "\u001b[0;31mPy4JJavaError\u001b[0m                             Traceback (most recent call last)",
      "\u001b[0;32m<ipython-input-40-1a6ce2362cd4>\u001b[0m in \u001b[0;36m<module>\u001b[0;34m\u001b[0m\n\u001b[0;32m----> 1\u001b[0;31m \u001b[0mdf\u001b[0m\u001b[0;34m.\u001b[0m\u001b[0mshow\u001b[0m\u001b[0;34m(\u001b[0m\u001b[0;34m)\u001b[0m\u001b[0;34m\u001b[0m\u001b[0;34m\u001b[0m\u001b[0m\n\u001b[0m",
      "\u001b[0;32m~/Documents/programming/big_data/spark-3.0.0-bin-hadoop3.2/python/pyspark/sql/dataframe.py\u001b[0m in \u001b[0;36mshow\u001b[0;34m(self, n, truncate, vertical)\u001b[0m\n\u001b[1;32m    438\u001b[0m         \"\"\"\n\u001b[1;32m    439\u001b[0m         \u001b[0;32mif\u001b[0m \u001b[0misinstance\u001b[0m\u001b[0;34m(\u001b[0m\u001b[0mtruncate\u001b[0m\u001b[0;34m,\u001b[0m \u001b[0mbool\u001b[0m\u001b[0;34m)\u001b[0m \u001b[0;32mand\u001b[0m \u001b[0mtruncate\u001b[0m\u001b[0;34m:\u001b[0m\u001b[0;34m\u001b[0m\u001b[0;34m\u001b[0m\u001b[0m\n\u001b[0;32m--> 440\u001b[0;31m             \u001b[0mprint\u001b[0m\u001b[0;34m(\u001b[0m\u001b[0mself\u001b[0m\u001b[0;34m.\u001b[0m\u001b[0m_jdf\u001b[0m\u001b[0;34m.\u001b[0m\u001b[0mshowString\u001b[0m\u001b[0;34m(\u001b[0m\u001b[0mn\u001b[0m\u001b[0;34m,\u001b[0m \u001b[0;36m20\u001b[0m\u001b[0;34m,\u001b[0m \u001b[0mvertical\u001b[0m\u001b[0;34m)\u001b[0m\u001b[0;34m)\u001b[0m\u001b[0;34m\u001b[0m\u001b[0;34m\u001b[0m\u001b[0m\n\u001b[0m\u001b[1;32m    441\u001b[0m         \u001b[0;32melse\u001b[0m\u001b[0;34m:\u001b[0m\u001b[0;34m\u001b[0m\u001b[0;34m\u001b[0m\u001b[0m\n\u001b[1;32m    442\u001b[0m             \u001b[0mprint\u001b[0m\u001b[0;34m(\u001b[0m\u001b[0mself\u001b[0m\u001b[0;34m.\u001b[0m\u001b[0m_jdf\u001b[0m\u001b[0;34m.\u001b[0m\u001b[0mshowString\u001b[0m\u001b[0;34m(\u001b[0m\u001b[0mn\u001b[0m\u001b[0;34m,\u001b[0m \u001b[0mint\u001b[0m\u001b[0;34m(\u001b[0m\u001b[0mtruncate\u001b[0m\u001b[0;34m)\u001b[0m\u001b[0;34m,\u001b[0m \u001b[0mvertical\u001b[0m\u001b[0;34m)\u001b[0m\u001b[0;34m)\u001b[0m\u001b[0;34m\u001b[0m\u001b[0;34m\u001b[0m\u001b[0m\n",
      "\u001b[0;32m~/Documents/programming/big_data/spark-3.0.0-bin-hadoop3.2/python/lib/py4j-0.10.9-src.zip/py4j/java_gateway.py\u001b[0m in \u001b[0;36m__call__\u001b[0;34m(self, *args)\u001b[0m\n\u001b[1;32m   1302\u001b[0m \u001b[0;34m\u001b[0m\u001b[0m\n\u001b[1;32m   1303\u001b[0m         \u001b[0manswer\u001b[0m \u001b[0;34m=\u001b[0m \u001b[0mself\u001b[0m\u001b[0;34m.\u001b[0m\u001b[0mgateway_client\u001b[0m\u001b[0;34m.\u001b[0m\u001b[0msend_command\u001b[0m\u001b[0;34m(\u001b[0m\u001b[0mcommand\u001b[0m\u001b[0;34m)\u001b[0m\u001b[0;34m\u001b[0m\u001b[0;34m\u001b[0m\u001b[0m\n\u001b[0;32m-> 1304\u001b[0;31m         return_value = get_return_value(\n\u001b[0m\u001b[1;32m   1305\u001b[0m             answer, self.gateway_client, self.target_id, self.name)\n\u001b[1;32m   1306\u001b[0m \u001b[0;34m\u001b[0m\u001b[0m\n",
      "\u001b[0;32m~/Documents/programming/big_data/spark-3.0.0-bin-hadoop3.2/python/pyspark/sql/utils.py\u001b[0m in \u001b[0;36mdeco\u001b[0;34m(*a, **kw)\u001b[0m\n\u001b[1;32m    129\u001b[0m     \u001b[0;32mdef\u001b[0m \u001b[0mdeco\u001b[0m\u001b[0;34m(\u001b[0m\u001b[0;34m*\u001b[0m\u001b[0ma\u001b[0m\u001b[0;34m,\u001b[0m \u001b[0;34m**\u001b[0m\u001b[0mkw\u001b[0m\u001b[0;34m)\u001b[0m\u001b[0;34m:\u001b[0m\u001b[0;34m\u001b[0m\u001b[0;34m\u001b[0m\u001b[0m\n\u001b[1;32m    130\u001b[0m         \u001b[0;32mtry\u001b[0m\u001b[0;34m:\u001b[0m\u001b[0;34m\u001b[0m\u001b[0;34m\u001b[0m\u001b[0m\n\u001b[0;32m--> 131\u001b[0;31m             \u001b[0;32mreturn\u001b[0m \u001b[0mf\u001b[0m\u001b[0;34m(\u001b[0m\u001b[0;34m*\u001b[0m\u001b[0ma\u001b[0m\u001b[0;34m,\u001b[0m \u001b[0;34m**\u001b[0m\u001b[0mkw\u001b[0m\u001b[0;34m)\u001b[0m\u001b[0;34m\u001b[0m\u001b[0;34m\u001b[0m\u001b[0m\n\u001b[0m\u001b[1;32m    132\u001b[0m         \u001b[0;32mexcept\u001b[0m \u001b[0mpy4j\u001b[0m\u001b[0;34m.\u001b[0m\u001b[0mprotocol\u001b[0m\u001b[0;34m.\u001b[0m\u001b[0mPy4JJavaError\u001b[0m \u001b[0;32mas\u001b[0m \u001b[0me\u001b[0m\u001b[0;34m:\u001b[0m\u001b[0;34m\u001b[0m\u001b[0;34m\u001b[0m\u001b[0m\n\u001b[1;32m    133\u001b[0m             \u001b[0mconverted\u001b[0m \u001b[0;34m=\u001b[0m \u001b[0mconvert_exception\u001b[0m\u001b[0;34m(\u001b[0m\u001b[0me\u001b[0m\u001b[0;34m.\u001b[0m\u001b[0mjava_exception\u001b[0m\u001b[0;34m)\u001b[0m\u001b[0;34m\u001b[0m\u001b[0;34m\u001b[0m\u001b[0m\n",
      "\u001b[0;32m~/Documents/programming/big_data/spark-3.0.0-bin-hadoop3.2/python/lib/py4j-0.10.9-src.zip/py4j/protocol.py\u001b[0m in \u001b[0;36mget_return_value\u001b[0;34m(answer, gateway_client, target_id, name)\u001b[0m\n\u001b[1;32m    324\u001b[0m             \u001b[0mvalue\u001b[0m \u001b[0;34m=\u001b[0m \u001b[0mOUTPUT_CONVERTER\u001b[0m\u001b[0;34m[\u001b[0m\u001b[0mtype\u001b[0m\u001b[0;34m]\u001b[0m\u001b[0;34m(\u001b[0m\u001b[0manswer\u001b[0m\u001b[0;34m[\u001b[0m\u001b[0;36m2\u001b[0m\u001b[0;34m:\u001b[0m\u001b[0;34m]\u001b[0m\u001b[0;34m,\u001b[0m \u001b[0mgateway_client\u001b[0m\u001b[0;34m)\u001b[0m\u001b[0;34m\u001b[0m\u001b[0;34m\u001b[0m\u001b[0m\n\u001b[1;32m    325\u001b[0m             \u001b[0;32mif\u001b[0m \u001b[0manswer\u001b[0m\u001b[0;34m[\u001b[0m\u001b[0;36m1\u001b[0m\u001b[0;34m]\u001b[0m \u001b[0;34m==\u001b[0m \u001b[0mREFERENCE_TYPE\u001b[0m\u001b[0;34m:\u001b[0m\u001b[0;34m\u001b[0m\u001b[0;34m\u001b[0m\u001b[0m\n\u001b[0;32m--> 326\u001b[0;31m                 raise Py4JJavaError(\n\u001b[0m\u001b[1;32m    327\u001b[0m                     \u001b[0;34m\"An error occurred while calling {0}{1}{2}.\\n\"\u001b[0m\u001b[0;34m.\u001b[0m\u001b[0;34m\u001b[0m\u001b[0;34m\u001b[0m\u001b[0m\n\u001b[1;32m    328\u001b[0m                     format(target_id, \".\", name), value)\n",
      "\u001b[0;31mPy4JJavaError\u001b[0m: An error occurred while calling o31.showString.\n: java.lang.IllegalStateException: Cannot call methods on a stopped SparkContext.\nThis stopped SparkContext was created at:\n\norg.apache.spark.api.java.JavaSparkContext.<init>(JavaSparkContext.scala:58)\nsun.reflect.NativeConstructorAccessorImpl.newInstance0(Native Method)\nsun.reflect.NativeConstructorAccessorImpl.newInstance(NativeConstructorAccessorImpl.java:62)\nsun.reflect.DelegatingConstructorAccessorImpl.newInstance(DelegatingConstructorAccessorImpl.java:45)\njava.lang.reflect.Constructor.newInstance(Constructor.java:423)\npy4j.reflection.MethodInvoker.invoke(MethodInvoker.java:247)\npy4j.reflection.ReflectionEngine.invoke(ReflectionEngine.java:357)\npy4j.Gateway.invoke(Gateway.java:238)\npy4j.commands.ConstructorCommand.invokeConstructor(ConstructorCommand.java:80)\npy4j.commands.ConstructorCommand.execute(ConstructorCommand.java:69)\npy4j.GatewayConnection.run(GatewayConnection.java:238)\njava.lang.Thread.run(Thread.java:748)\n\nThe currently active SparkContext was created at:\n\n(No active SparkContext.)\n         \n\tat org.apache.spark.SparkContext.assertNotStopped(SparkContext.scala:111)\n\tat org.apache.spark.SparkContext.broadcast(SparkContext.scala:1471)\n\tat org.apache.spark.sql.execution.datasources.json.JsonFileFormat.buildReader(JsonFileFormat.scala:101)\n\tat org.apache.spark.sql.execution.datasources.FileFormat.buildReaderWithPartitionValues(FileFormat.scala:130)\n\tat org.apache.spark.sql.execution.datasources.FileFormat.buildReaderWithPartitionValues$(FileFormat.scala:121)\n\tat org.apache.spark.sql.execution.datasources.TextBasedFileFormat.buildReaderWithPartitionValues(FileFormat.scala:170)\n\tat org.apache.spark.sql.execution.FileSourceScanExec.inputRDD$lzycompute(DataSourceScanExec.scala:398)\n\tat org.apache.spark.sql.execution.FileSourceScanExec.inputRDD(DataSourceScanExec.scala:389)\n\tat org.apache.spark.sql.execution.FileSourceScanExec.doExecute(DataSourceScanExec.scala:472)\n\tat org.apache.spark.sql.execution.SparkPlan.$anonfun$execute$1(SparkPlan.scala:175)\n\tat org.apache.spark.sql.execution.SparkPlan.$anonfun$executeQuery$1(SparkPlan.scala:213)\n\tat org.apache.spark.rdd.RDDOperationScope$.withScope(RDDOperationScope.scala:151)\n\tat org.apache.spark.sql.execution.SparkPlan.executeQuery(SparkPlan.scala:210)\n\tat org.apache.spark.sql.execution.SparkPlan.execute(SparkPlan.scala:171)\n\tat org.apache.spark.sql.execution.InputAdapter.inputRDD(WholeStageCodegenExec.scala:525)\n\tat org.apache.spark.sql.execution.InputRDDCodegen.inputRDDs(WholeStageCodegenExec.scala:453)\n\tat org.apache.spark.sql.execution.InputRDDCodegen.inputRDDs$(WholeStageCodegenExec.scala:452)\n\tat org.apache.spark.sql.execution.InputAdapter.inputRDDs(WholeStageCodegenExec.scala:496)\n\tat org.apache.spark.sql.execution.ProjectExec.inputRDDs(basicPhysicalOperators.scala:47)\n\tat org.apache.spark.sql.execution.WholeStageCodegenExec.doExecute(WholeStageCodegenExec.scala:720)\n\tat org.apache.spark.sql.execution.SparkPlan.$anonfun$execute$1(SparkPlan.scala:175)\n\tat org.apache.spark.sql.execution.SparkPlan.$anonfun$executeQuery$1(SparkPlan.scala:213)\n\tat org.apache.spark.rdd.RDDOperationScope$.withScope(RDDOperationScope.scala:151)\n\tat org.apache.spark.sql.execution.SparkPlan.executeQuery(SparkPlan.scala:210)\n\tat org.apache.spark.sql.execution.SparkPlan.execute(SparkPlan.scala:171)\n\tat org.apache.spark.sql.execution.SparkPlan.getByteArrayRdd(SparkPlan.scala:316)\n\tat org.apache.spark.sql.execution.SparkPlan.executeTake(SparkPlan.scala:434)\n\tat org.apache.spark.sql.execution.SparkPlan.executeTake(SparkPlan.scala:420)\n\tat org.apache.spark.sql.execution.CollectLimitExec.executeCollect(limit.scala:47)\n\tat org.apache.spark.sql.Dataset.collectFromPlan(Dataset.scala:3625)\n\tat org.apache.spark.sql.Dataset.$anonfun$head$1(Dataset.scala:2695)\n\tat org.apache.spark.sql.Dataset.$anonfun$withAction$1(Dataset.scala:3616)\n\tat org.apache.spark.sql.execution.SQLExecution$.$anonfun$withNewExecutionId$5(SQLExecution.scala:100)\n\tat org.apache.spark.sql.execution.SQLExecution$.withSQLConfPropagated(SQLExecution.scala:160)\n\tat org.apache.spark.sql.execution.SQLExecution$.$anonfun$withNewExecutionId$1(SQLExecution.scala:87)\n\tat org.apache.spark.sql.SparkSession.withActive(SparkSession.scala:763)\n\tat org.apache.spark.sql.execution.SQLExecution$.withNewExecutionId(SQLExecution.scala:64)\n\tat org.apache.spark.sql.Dataset.withAction(Dataset.scala:3614)\n\tat org.apache.spark.sql.Dataset.head(Dataset.scala:2695)\n\tat org.apache.spark.sql.Dataset.take(Dataset.scala:2902)\n\tat org.apache.spark.sql.Dataset.getRows(Dataset.scala:300)\n\tat org.apache.spark.sql.Dataset.showString(Dataset.scala:337)\n\tat sun.reflect.GeneratedMethodAccessor74.invoke(Unknown Source)\n\tat sun.reflect.DelegatingMethodAccessorImpl.invoke(DelegatingMethodAccessorImpl.java:43)\n\tat java.lang.reflect.Method.invoke(Method.java:498)\n\tat py4j.reflection.MethodInvoker.invoke(MethodInvoker.java:244)\n\tat py4j.reflection.ReflectionEngine.invoke(ReflectionEngine.java:357)\n\tat py4j.Gateway.invoke(Gateway.java:282)\n\tat py4j.commands.AbstractCommand.invokeMethod(AbstractCommand.java:132)\n\tat py4j.commands.CallCommand.execute(CallCommand.java:79)\n\tat py4j.GatewayConnection.run(GatewayConnection.java:238)\n\tat java.lang.Thread.run(Thread.java:748)\n"
     ]
    }
   ],
   "source": [
    "df.show()"
   ]
  },
  {
   "cell_type": "code",
   "execution_count": null,
   "id": "f9a1bbe6",
   "metadata": {},
   "outputs": [],
   "source": []
  }
 ],
 "metadata": {
  "kernelspec": {
   "display_name": "Python 3",
   "language": "python",
   "name": "python3"
  },
  "language_info": {
   "codemirror_mode": {
    "name": "ipython",
    "version": 3
   },
   "file_extension": ".py",
   "mimetype": "text/x-python",
   "name": "python",
   "nbconvert_exporter": "python",
   "pygments_lexer": "ipython3",
   "version": "3.8.5"
  }
 },
 "nbformat": 4,
 "nbformat_minor": 5
}

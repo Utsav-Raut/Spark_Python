{
 "cells": [
  {
   "cell_type": "code",
   "execution_count": 1,
   "id": "11078030",
   "metadata": {},
   "outputs": [],
   "source": [
    "import findspark\n",
    "findspark.init()"
   ]
  },
  {
   "cell_type": "code",
   "execution_count": 3,
   "id": "d3e83cfa",
   "metadata": {},
   "outputs": [],
   "source": [
    "from pyspark.sql import SparkSession\n",
    "spark = SparkSession.builder.master('local[*]').appName('Prac-2').getOrCreate()"
   ]
  },
  {
   "cell_type": "code",
   "execution_count": 4,
   "id": "c9a3763e",
   "metadata": {},
   "outputs": [],
   "source": [
    "json_file_path = 'file:///home/boom/Documents/programming/pyspark/data_files/nyt2.json'"
   ]
  },
  {
   "cell_type": "code",
   "execution_count": 5,
   "id": "9c37a0f5",
   "metadata": {},
   "outputs": [],
   "source": [
    "df = spark.read.format('json').load(json_file_path)"
   ]
  },
  {
   "cell_type": "code",
   "execution_count": 7,
   "id": "204e3764",
   "metadata": {},
   "outputs": [
    {
     "name": "stdout",
     "output_type": "stream",
     "text": [
      "+--------------------------+--------------------------------------------------------------------------------------------------+----------------------------------------+-----------------+----------------------------------------------------------------------------------------------------------------------------+--------+-----------------+-----------------------------+----+--------------+--------------------------------------------------+-------------+\n",
      "|_id                       |amazon_product_url                                                                                |author                                  |bestsellers_date |description                                                                                                                 |price   |published_date   |publisher                    |rank|rank_last_week|title                                             |weeks_on_list|\n",
      "+--------------------------+--------------------------------------------------------------------------------------------------+----------------------------------------+-----------------+----------------------------------------------------------------------------------------------------------------------------+--------+-----------------+-----------------------------+----+--------------+--------------------------------------------------+-------------+\n",
      "|[5b4aa4ead3089013507db18b]|http://www.amazon.com/Odd-Hours-Dean-Koontz/dp/0553807056?tag=NYTBS-20                            |Dean R Koontz                           |[[1211587200000]]|Odd Thomas, who can communicate with the dead, confronts evil forces in a California coastal town.                          |[, 27]  |[[1212883200000]]|Bantam                       |[1] |[0]           |ODD HOURS                                         |[1]          |\n",
      "|[5b4aa4ead3089013507db18c]|http://www.amazon.com/The-Host-Novel-Stephenie-Meyer/dp/0316218502?tag=NYTBS-20                   |Stephenie Meyer                         |[[1211587200000]]|Aliens have taken control of the minds and bodies of most humans, but one woman won’t surrender.                            |[25.99,]|[[1212883200000]]|Little, Brown                |[2] |[1]           |THE HOST                                          |[3]          |\n",
      "|[5b4aa4ead3089013507db18d]|http://www.amazon.com/Love-Youre-With-Emily-Giffin/dp/0312348665?tag=NYTBS-20                     |Emily Giffin                            |[[1211587200000]]|A woman's happy marriage is shaken when she encounters an old boyfriend.                                                    |[24.95,]|[[1212883200000]]|St. Martin's                 |[3] |[2]           |LOVE THE ONE YOU'RE WITH                          |[2]          |\n",
      "|[5b4aa4ead3089013507db18e]|http://www.amazon.com/The-Front-Garano-Patricia-Cornwell-ebook/dp/B0017T0C9M?tag=NYTBS-20         |Patricia Cornwell                       |[[1211587200000]]|A Massachusetts state investigator and his team from \"At Risk\" confront a rogue association of municipal police departments.|[22.95,]|[[1212883200000]]|Putnam                       |[4] |[0]           |THE FRONT                                         |[1]          |\n",
      "|[5b4aa4ead3089013507db18f]|http://www.amazon.com/Snuff-Chuck-Palahniuk/dp/0385517882?tag=NYTBS-20                            |Chuck Palahniuk                         |[[1211587200000]]|An aging porn queens aims to cap her career by having sex on film with 600 men in one day.                                  |[24.95,]|[[1212883200000]]|Doubleday                    |[5] |[0]           |SNUFF                                             |[1]          |\n",
      "|[5b4aa4ead3089013507db190]|http://www.amazon.com/Sundays-at-Tiffanys-James-Patterson/dp/0446199443?tag=NYTBS-20              |James Patterson and Gabrielle Charbonnet|[[1211587200000]]|A woman finds an unexpected love                                                                                            |[24.99,]|[[1212883200000]]|Little, Brown                |[6] |[3]           |SUNDAYS AT TIFFANY’S                              |[4]          |\n",
      "|[5b4aa4ead3089013507db191]|http://www.amazon.com/Phantom-Prey-John-Sandford/dp/0425227987?tag=NYTBS-20                       |John Sandford                           |[[1211587200000]]|The Minneapolis detective Lucas Davenport investigates a string of murders of young Goths.                                  |[26.95,]|[[1212883200000]]|Putnam                       |[7] |[4]           |PHANTOM PREY                                      |[3]          |\n",
      "|[5b4aa4ead3089013507db192]|http://www.amazon.com/From-Worse-Southern-Vampire-Mysteries/dp/0441015891?tag=NYTBS-20            |Jimmy Buffett                           |[[1211587200000]]|A Southern family tries to hide its pet pig at a New York luxury hotel.                                                     |[21.99,]|[[1212883200000]]|Little, Brown                |[8] |[6]           |SWINE NOT?                                        |[2]          |\n",
      "|[5b4aa4ead3089013507db193]|http://www.amazon.com/Where-Are-You-Now-Novel/dp/1416566384?tag=NYTBS-20                          |Elizabeth George                        |[[1211587200000]]|In Cornwall, trying to recover from his wife's death, Detective Thomas Lynley becomes involved in a murder investigation.   |[27.95,]|[[1212883200000]]|Harper                       |[9] |[8]           |CARELESS IN RED                                   |[3]          |\n",
      "|[5b4aa4ead3089013507db194]|http://www.amazon.com/The-Whole-Truth-David-Baldacci/dp/0446539686?tag=NYTBS-20                   |David Baldacci                          |[[1211587200000]]|An intelligence agent and a journalist team up against a warmongering defense contractor.                                   |[26.99,]|[[1212883200000]]|Grand Central                |[10]|[7]           |THE WHOLE TRUTH                                   |[5]          |\n",
      "|[5b4aa4ead3089013507db195]|http://www.amazon.com/Careless-Red-Novel-Elizabeth-George/dp/0061160873?tag=NYTBS-20              |Troy Denning                            |[[1211587200000]]|The New Jedi order battles Darth Caedus, Darth Vader's gradson; a 'Star Wars: Legacy of the Force' novel.                   |[, 27]  |[[1212883200000]]|Del Rey/Ballantine           |[11]|[5]           |INVINCIBLE                                        |[2]          |\n",
      "|[5b4aa4ead3089013507db196]|http://www.amazon.com/Unaccustomed-Earth-Jhumpa-Lahiri/dp/0307265730?tag=NYTBS-20                 |James Frey                              |[[1211587200000]]|A novel, set in Los Angeles, by the author of \"A Million Little Pieces.\"                                                    |[26.95,]|[[1212883200000]]|Harper                       |[12]|[9]           |BRIGHT SHINY MORNING                              |[2]          |\n",
      "|[5b4aa4ead3089013507db197]|http://www.amazon.com/The-Racing-Rain-Garth-Stein-ebook/dp/B0017SWPXY?tag=NYTBS-20                |Garth Stein                             |[[1211587200000]]|A Lab-terrier mix with great insight into the human condition helps his owner, a struggling race car driver.                |[23.95,]|[[1212883200000]]|Harper                       |[13]|[0]           |THE ART OF RACING IN THE RAIN                     |[1]          |\n",
      "|[5b4aa4ead3089013507db198]|http://www.amazon.com/Twenty-Wishes-Blossom-Street-Books/dp/0778326314?tag=NYTBS-20               |Debbie Macomber                         |[[1211587200000]]|A widow who owns a bookstore on Blossom Street compiles a list of things she always wanted to do.                           |[24.95,]|[[1212883200000]]|Mira                         |[14]|[10]          |TWENTY WISHES                                     |[4]          |\n",
      "|[5b4aa4ead3089013507db199]|http://www.amazon.com/Hold-Tight-Harlan-Coben/dp/0525950605?tag=NYTBS-20                          |Jeff Shaara                             |[[1211587200000]]|A novel about the Allied invasion in France in World War II.                                                                |[, 28]  |[[1212883200000]]|Ballantine                   |[15]|[11]          |THE STEEL WAVE                                    |[2]          |\n",
      "|[5b4aa4ead3089013507db19a]|http://www.amazon.com/Executive-Privilege-Novel-Phillip-Margolin/dp/0061236217?tag=NYTBS-20       |Phillip Margolin                        |[[1211587200000]]|                                                                                                                            |[, 0]   |[[1212883200000]]|HarperCollins Publishers     |[16]|[0]           |EXECUTIVE PRIVILEGE                               |[0]          |\n",
      "|[5b4aa4ead3089013507db19b]|http://www.amazon.com/Unaccustomed-Vintage-Contemporaries-Jhumpa-Lahiri/dp/0307278255?tag=NYTBS-20|Jhumpa Lahiri                           |[[1211587200000]]|Stories of the anxiety and transformation experienced by Bengalis in America.                                               |[, 0]   |[[1212883200000]]|Knopf                        |[17]|[0]           |UNACCUSTOMED EARTH                                |[0]          |\n",
      "|[5b4aa4ead3089013507db19c]|http://www.amazon.com/Netherland-A-Novel-Joseph-ONeill/dp/0307377040?tag=NYTBS-20                 |Joseph O'Neill                          |[[1211587200000]]|A Dutchman deserted by his wife after 9/11 finds solace in New York’s immigrant cricket scene.                              |[, 0]   |[[1212883200000]]|Knopf Publishing Group       |[18]|[0]           |NETHERLAND                                        |[0]          |\n",
      "|[5b4aa4ead3089013507db19d]|http://www.amazon.com/The-Appeal-John-Grisham/dp/0440243815?tag=NYTBS-20                          |John Grisham                            |[[1211587200000]]|Political and legal intrigue ensue when a Mississippi court rules against a company accused of dumping toxic waste.         |[, 0]   |[[1212883200000]]|Doubleday Publishing         |[19]|[0]           |THE APPEAL                                        |[0]          |\n",
      "|[5b4aa4ead3089013507db19e]|http://www.amazon.com/Indiana-Jones-Kingdom-Crystal-Skull/dp/0345501284?tag=NYTBS-20              |James Rollins                           |[[1211587200000]]|                                                                                                                            |[, 0]   |[[1212883200000]]|Random House Publishing Group|[20]|[0]           |INDIANA JONES AND THE KINGDOM OF THE CRYSTAL SKULL|[0]          |\n",
      "+--------------------------+--------------------------------------------------------------------------------------------------+----------------------------------------+-----------------+----------------------------------------------------------------------------------------------------------------------------+--------+-----------------+-----------------------------+----+--------------+--------------------------------------------------+-------------+\n",
      "only showing top 20 rows\n",
      "\n"
     ]
    }
   ],
   "source": [
    "df.show(truncate=False)"
   ]
  },
  {
   "cell_type": "code",
   "execution_count": 8,
   "id": "a311c485",
   "metadata": {},
   "outputs": [
    {
     "data": {
      "text/plain": [
       "10195"
      ]
     },
     "execution_count": 8,
     "metadata": {},
     "output_type": "execute_result"
    }
   ],
   "source": [
    "df.count()"
   ]
  },
  {
   "cell_type": "code",
   "execution_count": 10,
   "id": "d8770c0b",
   "metadata": {},
   "outputs": [
    {
     "data": {
      "text/plain": [
       "10195"
      ]
     },
     "execution_count": 10,
     "metadata": {},
     "output_type": "execute_result"
    }
   ],
   "source": [
    "uniq_df = df.dropDuplicates()\n",
    "uniq_df.count()"
   ]
  },
  {
   "cell_type": "code",
   "execution_count": 11,
   "id": "a4d1732f",
   "metadata": {},
   "outputs": [
    {
     "name": "stdout",
     "output_type": "stream",
     "text": [
      "+--------------------+\n",
      "|              author|\n",
      "+--------------------+\n",
      "|       Dean R Koontz|\n",
      "|     Stephenie Meyer|\n",
      "|        Emily Giffin|\n",
      "|   Patricia Cornwell|\n",
      "|     Chuck Palahniuk|\n",
      "|James Patterson a...|\n",
      "|       John Sandford|\n",
      "|       Jimmy Buffett|\n",
      "|    Elizabeth George|\n",
      "|      David Baldacci|\n",
      "+--------------------+\n",
      "only showing top 10 rows\n",
      "\n"
     ]
    }
   ],
   "source": [
    "df.select('author').show(10)"
   ]
  },
  {
   "cell_type": "code",
   "execution_count": 12,
   "id": "a21f61cd",
   "metadata": {},
   "outputs": [
    {
     "data": {
      "text/plain": [
       "['_id',\n",
       " 'amazon_product_url',\n",
       " 'author',\n",
       " 'bestsellers_date',\n",
       " 'description',\n",
       " 'price',\n",
       " 'published_date',\n",
       " 'publisher',\n",
       " 'rank',\n",
       " 'rank_last_week',\n",
       " 'title',\n",
       " 'weeks_on_list']"
      ]
     },
     "execution_count": 12,
     "metadata": {},
     "output_type": "execute_result"
    }
   ],
   "source": [
    "df.columns"
   ]
  },
  {
   "cell_type": "code",
   "execution_count": 14,
   "id": "96d6313b",
   "metadata": {},
   "outputs": [
    {
     "name": "stdout",
     "output_type": "stream",
     "text": [
      "+----------------------------------------+------------------------+-------------+--------+----+\n",
      "|author                                  |title                   |publisher    |price   |rank|\n",
      "+----------------------------------------+------------------------+-------------+--------+----+\n",
      "|Dean R Koontz                           |ODD HOURS               |Bantam       |[, 27]  |[1] |\n",
      "|Stephenie Meyer                         |THE HOST                |Little, Brown|[25.99,]|[2] |\n",
      "|Emily Giffin                            |LOVE THE ONE YOU'RE WITH|St. Martin's |[24.95,]|[3] |\n",
      "|Patricia Cornwell                       |THE FRONT               |Putnam       |[22.95,]|[4] |\n",
      "|Chuck Palahniuk                         |SNUFF                   |Doubleday    |[24.95,]|[5] |\n",
      "|James Patterson and Gabrielle Charbonnet|SUNDAYS AT TIFFANY’S    |Little, Brown|[24.99,]|[6] |\n",
      "|John Sandford                           |PHANTOM PREY            |Putnam       |[26.95,]|[7] |\n",
      "|Jimmy Buffett                           |SWINE NOT?              |Little, Brown|[21.99,]|[8] |\n",
      "|Elizabeth George                        |CARELESS IN RED         |Harper       |[27.95,]|[9] |\n",
      "|David Baldacci                          |THE WHOLE TRUTH         |Grand Central|[26.99,]|[10]|\n",
      "+----------------------------------------+------------------------+-------------+--------+----+\n",
      "only showing top 10 rows\n",
      "\n"
     ]
    }
   ],
   "source": [
    "df.select('author', 'title', 'publisher', 'price', 'rank').show(10, truncate=False)"
   ]
  },
  {
   "cell_type": "code",
   "execution_count": 18,
   "id": "e79bd08d",
   "metadata": {},
   "outputs": [
    {
     "name": "stdout",
     "output_type": "stream",
     "text": [
      "+--------------------+-----------------------------------------------------+\n",
      "|               title|CASE WHEN (NOT (title = ODD HOURS)) THEN 1 ELSE 0 END|\n",
      "+--------------------+-----------------------------------------------------+\n",
      "|           ODD HOURS|                                                    0|\n",
      "|            THE HOST|                                                    1|\n",
      "|LOVE THE ONE YOU'...|                                                    1|\n",
      "|           THE FRONT|                                                    1|\n",
      "|               SNUFF|                                                    1|\n",
      "|SUNDAYS AT TIFFANY’S|                                                    1|\n",
      "|        PHANTOM PREY|                                                    1|\n",
      "|          SWINE NOT?|                                                    1|\n",
      "|     CARELESS IN RED|                                                    1|\n",
      "|     THE WHOLE TRUTH|                                                    1|\n",
      "|          INVINCIBLE|                                                    1|\n",
      "|BRIGHT SHINY MORNING|                                                    1|\n",
      "|THE ART OF RACING...|                                                    1|\n",
      "|       TWENTY WISHES|                                                    1|\n",
      "|      THE STEEL WAVE|                                                    1|\n",
      "| EXECUTIVE PRIVILEGE|                                                    1|\n",
      "|  UNACCUSTOMED EARTH|                                                    1|\n",
      "|          NETHERLAND|                                                    1|\n",
      "|          THE APPEAL|                                                    1|\n",
      "|INDIANA JONES AND...|                                                    1|\n",
      "+--------------------+-----------------------------------------------------+\n",
      "only showing top 20 rows\n",
      "\n"
     ]
    }
   ],
   "source": [
    "from pyspark.sql.functions import *\n",
    "df.select('title',when(df.title != 'ODD HOURS', 1).otherwise(0)).show()"
   ]
  },
  {
   "cell_type": "code",
   "execution_count": 20,
   "id": "2ad559ef",
   "metadata": {},
   "outputs": [
    {
     "name": "stdout",
     "output_type": "stream",
     "text": [
      "+--------------------+--------------------+--------------+-----------------+--------------------+--------+-----------------+-------------+----+--------------+---------------+-------------+\n",
      "|                 _id|  amazon_product_url|        author| bestsellers_date|         description|   price|   published_date|    publisher|rank|rank_last_week|          title|weeks_on_list|\n",
      "+--------------------+--------------------+--------------+-----------------+--------------------+--------+-----------------+-------------+----+--------------+---------------+-------------+\n",
      "|[5b4aa4ead3089013...|http://www.amazon...| John Sandford|[[1211587200000]]|The Minneapolis d...|[26.95,]|[[1212883200000]]|       Putnam| [7]|           [4]|   PHANTOM PREY|          [3]|\n",
      "|[5b4aa4ead3089013...|http://www.amazon...|David Baldacci|[[1211587200000]]|An intelligence a...|[26.99,]|[[1212883200000]]|Grand Central|[10]|           [7]|THE WHOLE TRUTH|          [5]|\n",
      "|[5b4aa4ead3089013...|http://www.amazon...| John Sandford|[[1212192000000]]|The Minneapolis d...|[26.95,]|[[1213488000000]]|       Putnam| [9]|           [7]|   PHANTOM PREY|          [4]|\n",
      "|[5b4aa4ead3089013...|http://www.amazon...|David Baldacci|[[1212192000000]]|An intelligence a...|[26.99,]|[[1213488000000]]|Grand Central|[13]|          [10]|THE WHOLE TRUTH|          [6]|\n",
      "|[5b4aa4ead3089013...|http://www.amazon...| John Sandford|[[1212796800000]]|The Minneapolis d...|[26.95,]|[[1214092800000]]|       Putnam|[12]|           [9]|   PHANTOM PREY|          [5]|\n",
      "|[5b4aa4ead3089013...|http://www.amazon...| John Sandford|[[1214006400000]]|The Minneapolis d...|   [, 0]|[[1215302400000]]|       Putnam|[20]|           [0]|   PHANTOM PREY|          [0]|\n",
      "|[5b4aa4ead3089013...|http://www.amazon...| John Sandford|[[1222473600000]]|Virgil Flowers in...|[26.95,]|[[1223769600000]]|       Putnam| [2]|           [0]| HEAT LIGHTNING|          [1]|\n",
      "|[5b4aa4ead3089013...|http://www.amazon...| John Sandford|[[1223078400000]]|Virgil Flowers in...|[26.95,]|[[1224374400000]]|       Putnam| [4]|           [2]| HEAT LIGHTNING|          [2]|\n",
      "|[5b4aa4ead3089013...|http://www.amazon...| John Sandford|[[1223683200000]]|Virgil Flowers in...|[26.95,]|[[1224979200000]]|       Putnam| [6]|           [4]| HEAT LIGHTNING|          [3]|\n",
      "|[5b4aa4ead3089013...|http://www.amazon...| John Sandford|[[1224288000000]]|Virgil Flowers in...|[26.95,]|[[1225584000000]]|       Putnam| [7]|           [6]| HEAT LIGHTNING|          [4]|\n",
      "|[5b4aa4ead3089013...|http://www.amazon...| John Sandford|[[1224892800000]]|Virgil Flowers in...|[26.95,]|[[1226188800000]]|       Putnam|[13]|           [7]| HEAT LIGHTNING|          [5]|\n",
      "|[5b4aa4ead3089013...|http://www.amazon...| John Sandford|[[1225497600000]]|Virgil Flowers in...|   [, 0]|[[1226793600000]]|       Putnam|[20]|           [0]| HEAT LIGHTNING|          [0]|\n",
      "|[5b4aa4ead3089013...|http://www.amazon...|David Baldacci|[[1226102400000]]|Members of Washin...|  [, 27]|[[1227398400000]]|Grand Central| [1]|           [0]| DIVINE JUSTICE|          [1]|\n",
      "|[5b4aa4ead3089013...|http://www.amazon...|David Baldacci|[[1226707200000]]|Members of Washin...|  [, 27]|[[1228003200000]]|Grand Central| [3]|           [1]| DIVINE JUSTICE|          [2]|\n",
      "|[5b4aa4ead3089013...|http://www.amazon...|David Baldacci|[[1227312000000]]|Members of Washin...|  [, 27]|[[1228608000000]]|Grand Central| [5]|           [3]| DIVINE JUSTICE|          [3]|\n",
      "|[5b4aa4ead3089013...|http://www.amazon...|David Baldacci|[[1227916800000]]|Members of Washin...|  [, 27]|[[1229212800000]]|Grand Central| [8]|           [5]| DIVINE JUSTICE|          [4]|\n",
      "|[5b4aa4ead3089013...|http://www.amazon...|David Baldacci|[[1228521600000]]|Members of Washin...|  [, 27]|[[1229817600000]]|Grand Central|[11]|           [8]| DIVINE JUSTICE|          [5]|\n",
      "|[5b4aa4ead3089013...|http://www.amazon...|David Baldacci|[[1229126400000]]|Members of Washin...|  [, 27]|[[1230422400000]]|Grand Central|[11]|          [11]| DIVINE JUSTICE|          [6]|\n",
      "|[5b4aa4ead3089013...|http://www.amazon...|David Baldacci|[[1229731200000]]|Members of Washin...|  [, 27]|[[1231027200000]]|Grand Central|[11]|          [11]| DIVINE JUSTICE|          [7]|\n",
      "|[5b4aa4ead3089013...|http://www.amazon...|David Baldacci|[[1230336000000]]|Members of Washin...|  [, 27]|[[1231632000000]]|Grand Central|[10]|          [11]| DIVINE JUSTICE|          [8]|\n",
      "+--------------------+--------------------+--------------+-----------------+--------------------+--------+-----------------+-------------+----+--------------+---------------+-------------+\n",
      "only showing top 20 rows\n",
      "\n"
     ]
    }
   ],
   "source": [
    "df[df.author.isin(\"John Sandford\", \"David Baldacci\")].show()"
   ]
  },
  {
   "cell_type": "code",
   "execution_count": 21,
   "id": "754e1add",
   "metadata": {},
   "outputs": [
    {
     "name": "stdout",
     "output_type": "stream",
     "text": [
      "+--------------+---------------+-------------+--------+----+\n",
      "|        author|          title|    publisher|   price|rank|\n",
      "+--------------+---------------+-------------+--------+----+\n",
      "| John Sandford|   PHANTOM PREY|       Putnam|[26.95,]| [7]|\n",
      "|David Baldacci|THE WHOLE TRUTH|Grand Central|[26.99,]|[10]|\n",
      "| John Sandford|   PHANTOM PREY|       Putnam|[26.95,]| [9]|\n",
      "|David Baldacci|THE WHOLE TRUTH|Grand Central|[26.99,]|[13]|\n",
      "| John Sandford|   PHANTOM PREY|       Putnam|[26.95,]|[12]|\n",
      "| John Sandford|   PHANTOM PREY|       Putnam|   [, 0]|[20]|\n",
      "| John Sandford| HEAT LIGHTNING|       Putnam|[26.95,]| [2]|\n",
      "| John Sandford| HEAT LIGHTNING|       Putnam|[26.95,]| [4]|\n",
      "| John Sandford| HEAT LIGHTNING|       Putnam|[26.95,]| [6]|\n",
      "| John Sandford| HEAT LIGHTNING|       Putnam|[26.95,]| [7]|\n",
      "| John Sandford| HEAT LIGHTNING|       Putnam|[26.95,]|[13]|\n",
      "| John Sandford| HEAT LIGHTNING|       Putnam|   [, 0]|[20]|\n",
      "|David Baldacci| DIVINE JUSTICE|Grand Central|  [, 27]| [1]|\n",
      "|David Baldacci| DIVINE JUSTICE|Grand Central|  [, 27]| [3]|\n",
      "|David Baldacci| DIVINE JUSTICE|Grand Central|  [, 27]| [5]|\n",
      "|David Baldacci| DIVINE JUSTICE|Grand Central|  [, 27]| [8]|\n",
      "|David Baldacci| DIVINE JUSTICE|Grand Central|  [, 27]|[11]|\n",
      "|David Baldacci| DIVINE JUSTICE|Grand Central|  [, 27]|[11]|\n",
      "|David Baldacci| DIVINE JUSTICE|Grand Central|  [, 27]|[11]|\n",
      "|David Baldacci| DIVINE JUSTICE|Grand Central|  [, 27]|[10]|\n",
      "+--------------+---------------+-------------+--------+----+\n",
      "only showing top 20 rows\n",
      "\n"
     ]
    }
   ],
   "source": [
    "df[df.author.isin(\"John Sandford\", \"David Baldacci\")].select('author', 'title', 'publisher', 'price', 'rank').show()"
   ]
  },
  {
   "cell_type": "code",
   "execution_count": 23,
   "id": "435229dc",
   "metadata": {},
   "outputs": [
    {
     "name": "stdout",
     "output_type": "stream",
     "text": [
      "+--------------------+--------------------+--------+----+-------------------------------------------+\n",
      "|              author|               title|   price|rank|(author IN (John Sandford, David Baldacci))|\n",
      "+--------------------+--------------------+--------+----+-------------------------------------------+\n",
      "|       Dean R Koontz|           ODD HOURS|  [, 27]| [1]|                                      false|\n",
      "|     Stephenie Meyer|            THE HOST|[25.99,]| [2]|                                      false|\n",
      "|        Emily Giffin|LOVE THE ONE YOU'...|[24.95,]| [3]|                                      false|\n",
      "|   Patricia Cornwell|           THE FRONT|[22.95,]| [4]|                                      false|\n",
      "|     Chuck Palahniuk|               SNUFF|[24.95,]| [5]|                                      false|\n",
      "|James Patterson a...|SUNDAYS AT TIFFANY’S|[24.99,]| [6]|                                      false|\n",
      "|       John Sandford|        PHANTOM PREY|[26.95,]| [7]|                                       true|\n",
      "|       Jimmy Buffett|          SWINE NOT?|[21.99,]| [8]|                                      false|\n",
      "|    Elizabeth George|     CARELESS IN RED|[27.95,]| [9]|                                      false|\n",
      "|      David Baldacci|     THE WHOLE TRUTH|[26.99,]|[10]|                                       true|\n",
      "|        Troy Denning|          INVINCIBLE|  [, 27]|[11]|                                      false|\n",
      "|          James Frey|BRIGHT SHINY MORNING|[26.95,]|[12]|                                      false|\n",
      "|         Garth Stein|THE ART OF RACING...|[23.95,]|[13]|                                      false|\n",
      "|     Debbie Macomber|       TWENTY WISHES|[24.95,]|[14]|                                      false|\n",
      "|         Jeff Shaara|      THE STEEL WAVE|  [, 28]|[15]|                                      false|\n",
      "|    Phillip Margolin| EXECUTIVE PRIVILEGE|   [, 0]|[16]|                                      false|\n",
      "|       Jhumpa Lahiri|  UNACCUSTOMED EARTH|   [, 0]|[17]|                                      false|\n",
      "|      Joseph O'Neill|          NETHERLAND|   [, 0]|[18]|                                      false|\n",
      "|        John Grisham|          THE APPEAL|   [, 0]|[19]|                                      false|\n",
      "|       James Rollins|INDIANA JONES AND...|   [, 0]|[20]|                                      false|\n",
      "+--------------------+--------------------+--------+----+-------------------------------------------+\n",
      "only showing top 20 rows\n",
      "\n"
     ]
    }
   ],
   "source": [
    "df.select('author', 'title', 'price', 'rank',df.author.isin(\"John Sandford\", \"David Baldacci\")).show()"
   ]
  },
  {
   "cell_type": "code",
   "execution_count": 26,
   "id": "2629c67a",
   "metadata": {},
   "outputs": [
    {
     "name": "stdout",
     "output_type": "stream",
     "text": [
      "+----------------------------------------+-----------------------------+------------------+----------------+\n",
      "|author                                  |title                        |publisher         |title LIKE THE %|\n",
      "+----------------------------------------+-----------------------------+------------------+----------------+\n",
      "|Dean R Koontz                           |ODD HOURS                    |Bantam            |false           |\n",
      "|Stephenie Meyer                         |THE HOST                     |Little, Brown     |true            |\n",
      "|Emily Giffin                            |LOVE THE ONE YOU'RE WITH     |St. Martin's      |false           |\n",
      "|Patricia Cornwell                       |THE FRONT                    |Putnam            |true            |\n",
      "|Chuck Palahniuk                         |SNUFF                        |Doubleday         |false           |\n",
      "|James Patterson and Gabrielle Charbonnet|SUNDAYS AT TIFFANY’S         |Little, Brown     |false           |\n",
      "|John Sandford                           |PHANTOM PREY                 |Putnam            |false           |\n",
      "|Jimmy Buffett                           |SWINE NOT?                   |Little, Brown     |false           |\n",
      "|Elizabeth George                        |CARELESS IN RED              |Harper            |false           |\n",
      "|David Baldacci                          |THE WHOLE TRUTH              |Grand Central     |true            |\n",
      "|Troy Denning                            |INVINCIBLE                   |Del Rey/Ballantine|false           |\n",
      "|James Frey                              |BRIGHT SHINY MORNING         |Harper            |false           |\n",
      "|Garth Stein                             |THE ART OF RACING IN THE RAIN|Harper            |true            |\n",
      "|Debbie Macomber                         |TWENTY WISHES                |Mira              |false           |\n",
      "|Jeff Shaara                             |THE STEEL WAVE               |Ballantine        |true            |\n",
      "+----------------------------------------+-----------------------------+------------------+----------------+\n",
      "only showing top 15 rows\n",
      "\n"
     ]
    }
   ],
   "source": [
    "df.select('author', 'title', 'publisher',df.title.like(\"THE %\")).show(15,truncate=False)"
   ]
  },
  {
   "cell_type": "code",
   "execution_count": 28,
   "id": "f1145c67",
   "metadata": {},
   "outputs": [
    {
     "name": "stdout",
     "output_type": "stream",
     "text": [
      "+-------------+--------------------------------------------------+\n",
      "|author       |title                                             |\n",
      "+-------------+--------------------------------------------------+\n",
      "|Emily Giffin |LOVE THE ONE YOU'RE WITH                          |\n",
      "|Garth Stein  |THE ART OF RACING IN THE RAIN                     |\n",
      "|James Rollins|INDIANA JONES AND THE KINGDOM OF THE CRYSTAL SKULL|\n",
      "|Emily Giffin |LOVE THE ONE YOU'RE WITH                          |\n",
      "|Garth Stein  |THE ART OF RACING IN THE RAIN                     |\n",
      "|Emily Giffin |LOVE THE ONE YOU'RE WITH                          |\n",
      "|Garth Stein  |THE ART OF RACING IN THE RAIN                     |\n",
      "|Emily Giffin |LOVE THE ONE YOU'RE WITH                          |\n",
      "|Garth Stein  |THE ART OF RACING IN THE RAIN                     |\n",
      "|Emily Giffin |LOVE THE ONE YOU'RE WITH                          |\n",
      "|Garth Stein  |THE ART OF RACING IN THE RAIN                     |\n",
      "|Emily Giffin |LOVE THE ONE YOU'RE WITH                          |\n",
      "|Garth Stein  |THE ART OF RACING IN THE RAIN                     |\n",
      "|Emily Giffin |LOVE THE ONE YOU'RE WITH                          |\n",
      "|Garth Stein  |THE ART OF RACING IN THE RAIN                     |\n",
      "+-------------+--------------------------------------------------+\n",
      "only showing top 15 rows\n",
      "\n"
     ]
    }
   ],
   "source": [
    "df[df.title.like(\"% THE %\")].select('author', 'title').show(15,truncate=False)"
   ]
  },
  {
   "cell_type": "code",
   "execution_count": 29,
   "id": "9eff52fc",
   "metadata": {},
   "outputs": [
    {
     "name": "stdout",
     "output_type": "stream",
     "text": [
      "+-----------------+--------------------+-------------+\n",
      "|           author|               title|    publisher|\n",
      "+-----------------+--------------------+-------------+\n",
      "|  Stephenie Meyer|            THE HOST|Little, Brown|\n",
      "|Patricia Cornwell|           THE FRONT|       Putnam|\n",
      "|   David Baldacci|     THE WHOLE TRUTH|Grand Central|\n",
      "|      Garth Stein|THE ART OF RACING...|       Harper|\n",
      "|      Jeff Shaara|      THE STEEL WAVE|   Ballantine|\n",
      "+-----------------+--------------------+-------------+\n",
      "only showing top 5 rows\n",
      "\n"
     ]
    }
   ],
   "source": [
    "df[df.title.startswith(\"THE\")].select('author','title','publisher').show(5)"
   ]
  },
  {
   "cell_type": "code",
   "execution_count": 30,
   "id": "1ef6b588",
   "metadata": {},
   "outputs": [
    {
     "name": "stdout",
     "output_type": "stream",
     "text": [
      "+-----------------+------------------+---------+\n",
      "|           author|             title|publisher|\n",
      "+-----------------+------------------+---------+\n",
      "|Patricia Cornwell|         THE FRONT|   Putnam|\n",
      "|Patricia Cornwell|         THE FRONT|   Putnam|\n",
      "|Patricia Cornwell|         THE FRONT|   Putnam|\n",
      "|     Daniel Silva|THE SECRET SERVANT|   Putnam|\n",
      "|     Daniel Silva|THE SECRET SERVANT|   Putnam|\n",
      "+-----------------+------------------+---------+\n",
      "only showing top 5 rows\n",
      "\n"
     ]
    }
   ],
   "source": [
    "df[df.title.endswith(\"NT\")].select('author','title','publisher').show(5)"
   ]
  },
  {
   "cell_type": "code",
   "execution_count": 31,
   "id": "ecab0d46",
   "metadata": {},
   "outputs": [
    {
     "name": "stdout",
     "output_type": "stream",
     "text": [
      "+-----------------+-------------------+--------------+\n",
      "|           author|              title|     publisher|\n",
      "+-----------------+-------------------+--------------+\n",
      "|       Dale Brown|   EXECUTIVE INTENT|William Morrow|\n",
      "|        P D James|THE PRIVATE PATIENT|         Knopf|\n",
      "|   Kazuo Ishiguro|   THE BURIED GIANT|         Knopf|\n",
      "|   Danielle Steel|      THE APARTMENT|     Delacorte|\n",
      "|Patricia Cornwell|          THE FRONT|        Putnam|\n",
      "+-----------------+-------------------+--------------+\n",
      "only showing top 5 rows\n",
      "\n"
     ]
    }
   ],
   "source": [
    "df[df.title.endswith(\"NT\")].select('author','title','publisher').dropDuplicates().show(5)"
   ]
  },
  {
   "cell_type": "code",
   "execution_count": 32,
   "id": "38a2acf3",
   "metadata": {},
   "outputs": [
    {
     "name": "stdout",
     "output_type": "stream",
     "text": [
      "+-----+\n",
      "|title|\n",
      "+-----+\n",
      "|  Dea|\n",
      "|  Ste|\n",
      "|  Emi|\n",
      "|  Pat|\n",
      "|  Chu|\n",
      "+-----+\n",
      "only showing top 5 rows\n",
      "\n"
     ]
    }
   ],
   "source": [
    "df.select(df.author.substr(1,3).alias('title')).show(5)"
   ]
  },
  {
   "cell_type": "code",
   "execution_count": 34,
   "id": "804bf2d2",
   "metadata": {},
   "outputs": [
    {
     "name": "stdout",
     "output_type": "stream",
     "text": [
      "+--------------------+--------------------+-------------------+--------------------+\n",
      "|              author|               title|          publisher|             new_col|\n",
      "+--------------------+--------------------+-------------------+--------------------+\n",
      "|          Dale Brown|    EXECUTIVE INTENT|     William Morrow|This is a new column|\n",
      "|           P D James| THE PRIVATE PATIENT|              Knopf|This is a new column|\n",
      "|      Kazuo Ishiguro|    THE BURIED GIANT|              Knopf|This is a new column|\n",
      "|      Danielle Steel|       THE APARTMENT|          Delacorte|This is a new column|\n",
      "|   Patricia Cornwell|           THE FRONT|             Putnam|This is a new column|\n",
      "|James Patterson a...|    THE 9TH JUDGMENT|      Little, Brown|This is a new column|\n",
      "|           J A Jance|        CRUEL INTENT|         Touchstone|This is a new column|\n",
      "|      Kristin Hannah|          HOME FRONT|       St. Martin’s|This is a new column|\n",
      "|       Alex Berenson|THE COUNTERFEIT A...|             Putnam|This is a new column|\n",
      "|             C J Box|      BREAKING POINT|             Putnam|This is a new column|\n",
      "|             Amy Tan|THE VALLEY OF AMA...| Ecco/HarperCollins|This is a new column|\n",
      "|        Tim Johnston|             DESCENT|          Algonquin|This is a new column|\n",
      "|         Scott Turow|            INNOCENT|      Grand Central|This is a new column|\n",
      "|          Judy Blume|IN THE UNLIKELY E...|              Knopf|This is a new column|\n",
      "|           Brad Thor|       FOREIGN AGENT|Emily Bestler/Atria|This is a new column|\n",
      "|      David Baldacci|        THE INNOCENT|      Grand Central|This is a new column|\n",
      "|       John Sandford|         STORM FRONT|             Putnam|This is a new column|\n",
      "|           Phil Klay|        REDEPLOYMENT|      Penguin Press|This is a new column|\n",
      "|     Chris Bohjalian|THE FLIGHT ATTENDANT|          Doubleday|This is a new column|\n",
      "|      Ridley Pearson|      THE RISK AGENT|             Putnam|This is a new column|\n",
      "+--------------------+--------------------+-------------------+--------------------+\n",
      "only showing top 20 rows\n",
      "\n"
     ]
    }
   ],
   "source": [
    "# Adding cols\n",
    "new_df = df[df.title.endswith(\"NT\")].select('author','title','publisher').dropDuplicates()\n",
    "updated_new_df = new_df.withColumn('new_col', lit('This is a new column'))\n",
    "updated_new_df.show()"
   ]
  },
  {
   "cell_type": "code",
   "execution_count": 35,
   "id": "ed0efc48",
   "metadata": {},
   "outputs": [
    {
     "name": "stdout",
     "output_type": "stream",
     "text": [
      "+--------------------+--------------------+-------------------+--------------------+\n",
      "|              author|               title|          publisher|           added_col|\n",
      "+--------------------+--------------------+-------------------+--------------------+\n",
      "|          Dale Brown|    EXECUTIVE INTENT|     William Morrow|This is a new column|\n",
      "|           P D James| THE PRIVATE PATIENT|              Knopf|This is a new column|\n",
      "|      Kazuo Ishiguro|    THE BURIED GIANT|              Knopf|This is a new column|\n",
      "|      Danielle Steel|       THE APARTMENT|          Delacorte|This is a new column|\n",
      "|   Patricia Cornwell|           THE FRONT|             Putnam|This is a new column|\n",
      "|James Patterson a...|    THE 9TH JUDGMENT|      Little, Brown|This is a new column|\n",
      "|           J A Jance|        CRUEL INTENT|         Touchstone|This is a new column|\n",
      "|      Kristin Hannah|          HOME FRONT|       St. Martin’s|This is a new column|\n",
      "|       Alex Berenson|THE COUNTERFEIT A...|             Putnam|This is a new column|\n",
      "|             C J Box|      BREAKING POINT|             Putnam|This is a new column|\n",
      "|             Amy Tan|THE VALLEY OF AMA...| Ecco/HarperCollins|This is a new column|\n",
      "|        Tim Johnston|             DESCENT|          Algonquin|This is a new column|\n",
      "|         Scott Turow|            INNOCENT|      Grand Central|This is a new column|\n",
      "|          Judy Blume|IN THE UNLIKELY E...|              Knopf|This is a new column|\n",
      "|           Brad Thor|       FOREIGN AGENT|Emily Bestler/Atria|This is a new column|\n",
      "|      David Baldacci|        THE INNOCENT|      Grand Central|This is a new column|\n",
      "|       John Sandford|         STORM FRONT|             Putnam|This is a new column|\n",
      "|           Phil Klay|        REDEPLOYMENT|      Penguin Press|This is a new column|\n",
      "|     Chris Bohjalian|THE FLIGHT ATTENDANT|          Doubleday|This is a new column|\n",
      "|      Ridley Pearson|      THE RISK AGENT|             Putnam|This is a new column|\n",
      "+--------------------+--------------------+-------------------+--------------------+\n",
      "only showing top 20 rows\n",
      "\n"
     ]
    }
   ],
   "source": [
    "# updating col\n",
    "updated_new_df = updated_new_df.withColumnRenamed('new_col', 'added_col')\n",
    "updated_new_df.show()"
   ]
  },
  {
   "cell_type": "code",
   "execution_count": 36,
   "id": "805c1640",
   "metadata": {},
   "outputs": [
    {
     "name": "stdout",
     "output_type": "stream",
     "text": [
      "+--------------------+--------------------+-------------------+\n",
      "|              author|               title|          publisher|\n",
      "+--------------------+--------------------+-------------------+\n",
      "|          Dale Brown|    EXECUTIVE INTENT|     William Morrow|\n",
      "|           P D James| THE PRIVATE PATIENT|              Knopf|\n",
      "|      Kazuo Ishiguro|    THE BURIED GIANT|              Knopf|\n",
      "|      Danielle Steel|       THE APARTMENT|          Delacorte|\n",
      "|   Patricia Cornwell|           THE FRONT|             Putnam|\n",
      "|James Patterson a...|    THE 9TH JUDGMENT|      Little, Brown|\n",
      "|           J A Jance|        CRUEL INTENT|         Touchstone|\n",
      "|      Kristin Hannah|          HOME FRONT|       St. Martin’s|\n",
      "|       Alex Berenson|THE COUNTERFEIT A...|             Putnam|\n",
      "|             C J Box|      BREAKING POINT|             Putnam|\n",
      "|             Amy Tan|THE VALLEY OF AMA...| Ecco/HarperCollins|\n",
      "|        Tim Johnston|             DESCENT|          Algonquin|\n",
      "|         Scott Turow|            INNOCENT|      Grand Central|\n",
      "|          Judy Blume|IN THE UNLIKELY E...|              Knopf|\n",
      "|           Brad Thor|       FOREIGN AGENT|Emily Bestler/Atria|\n",
      "|      David Baldacci|        THE INNOCENT|      Grand Central|\n",
      "|       John Sandford|         STORM FRONT|             Putnam|\n",
      "|           Phil Klay|        REDEPLOYMENT|      Penguin Press|\n",
      "|     Chris Bohjalian|THE FLIGHT ATTENDANT|          Doubleday|\n",
      "|      Ridley Pearson|      THE RISK AGENT|             Putnam|\n",
      "+--------------------+--------------------+-------------------+\n",
      "only showing top 20 rows\n",
      "\n"
     ]
    }
   ],
   "source": [
    "# Dropping cols\n",
    "df_remove = updated_new_df.drop('added_col')\n",
    "df_remove.show()"
   ]
  },
  {
   "cell_type": "code",
   "execution_count": 37,
   "id": "db4ce6a3",
   "metadata": {},
   "outputs": [],
   "source": [
    "# Inspecting data"
   ]
  },
  {
   "cell_type": "code",
   "execution_count": null,
   "id": "282ca9d1",
   "metadata": {},
   "outputs": [],
   "source": []
  }
 ],
 "metadata": {
  "kernelspec": {
   "display_name": "Python 3",
   "language": "python",
   "name": "python3"
  },
  "language_info": {
   "codemirror_mode": {
    "name": "ipython",
    "version": 3
   },
   "file_extension": ".py",
   "mimetype": "text/x-python",
   "name": "python",
   "nbconvert_exporter": "python",
   "pygments_lexer": "ipython3",
   "version": "3.8.5"
  }
 },
 "nbformat": 4,
 "nbformat_minor": 5
}

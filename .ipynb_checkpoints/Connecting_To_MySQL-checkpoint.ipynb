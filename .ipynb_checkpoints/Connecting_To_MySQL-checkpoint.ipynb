{
 "cells": [
  {
   "cell_type": "code",
   "execution_count": 1,
   "id": "d12ce981",
   "metadata": {},
   "outputs": [],
   "source": [
    "import findspark\n",
    "findspark.init()\n",
    "import pyspark"
   ]
  },
  {
   "cell_type": "code",
   "execution_count": 2,
   "id": "ce474a9b",
   "metadata": {},
   "outputs": [],
   "source": [
    "from pyspark.sql import *\n",
    "spark = SparkSession.builder.master(\"local[2]\").appName(\"connect_to_mysql\").getOrCreate()"
   ]
  },
  {
   "cell_type": "code",
   "execution_count": 3,
   "id": "6eaca3af",
   "metadata": {},
   "outputs": [],
   "source": [
    "df = spark.read.format(\"jdbc\"). \\\n",
    "        option(\"url\",\"jdbc:mysql://localhost/ORG\"). \\\n",
    "        option(\"driver\",\"com.mysql.jdbc.Driver\"). \\\n",
    "        option(\"dbtable\",\"Worker\"). \\\n",
    "        option(\"user\",\"root\"). \\\n",
    "        option(\"password\",\"MySqlPassword2020!\"). \\\n",
    "        load()"
   ]
  },
  {
   "cell_type": "code",
   "execution_count": null,
   "id": "a164dd5f",
   "metadata": {},
   "outputs": [],
   "source": []
  },
  {
   "cell_type": "code",
   "execution_count": null,
   "id": "88f33f1d",
   "metadata": {},
   "outputs": [],
   "source": []
  }
 ],
 "metadata": {
  "kernelspec": {
   "display_name": "Python 3",
   "language": "python",
   "name": "python3"
  },
  "language_info": {
   "codemirror_mode": {
    "name": "ipython",
    "version": 3
   },
   "file_extension": ".py",
   "mimetype": "text/x-python",
   "name": "python",
   "nbconvert_exporter": "python",
   "pygments_lexer": "ipython3",
   "version": "3.8.5"
  }
 },
 "nbformat": 4,
 "nbformat_minor": 5
}
